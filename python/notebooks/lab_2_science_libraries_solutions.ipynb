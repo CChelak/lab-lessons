{
 "cells": [
  {
   "cell_type": "markdown",
   "metadata": {},
   "source": [
    "# Exploring plotting with seaborn\n",
    "\n",
    "Let's use the [seaborn](https://seaborn.pydata.org/tutorial/introduction.html) plotting library to practice more python principles. Let's first run the introductory scatterplot locally. We'll put this example in a function.\n",
    "\n",
    "[Functions](https://docs.python.org/3/tutorial/controlflow.html#defining-functions) follow the following format:\n",
    "\n",
    "```\n",
    "def function_name(arguments):\n",
    "    <function body>\n",
    "```\n",
    "\n",
    "So, it starts with `def`, followed by the name you want to give it, in this case `function_name`, followed by parentheses, `()`, and finally a colon, `:`. Anything you want to pass into the function will be given a name inside the parentheses: e.g. `arguments`. The `<function body>` contains all the lines of code you want the function to execute"
   ]
  },
  {
   "cell_type": "code",
   "execution_count": null,
   "metadata": {},
   "outputs": [],
   "source": [
    "# Copy-paste the introduction scatterplot to this block and run\n",
    "\n",
    "# Import seaborn\n",
    "import seaborn as sns\n",
    "\n",
    "# Apply the default theme\n",
    "sns.set_theme()\n",
    "\n",
    "# Load an \"tips\" example dataset\n",
    "tips = sns.load_dataset(\"tips\")\n",
    "\n",
    "# paste the relplot calls into the function body\n",
    "def plot_sns_tips_example():\n",
    "    # Create a visualization\n",
    "    sns.relplot(\n",
    "        data=tips,\n",
    "        x=\"total_bill\", y=\"tip\", col=\"time\",\n",
    "        hue=\"smoker\", style=\"smoker\", size=\"size\",\n",
    "    )\n",
    "\n",
    "# call our function below\n",
    "plot_sns_tips_example()"
   ]
  },
  {
   "cell_type": "markdown",
   "metadata": {},
   "source": [
    "We've generated a plot with a few commands, but let's learn what each command means.\n",
    "\n",
    "We'll explore `set_theme()` below and customize it. That made the graph itself look pretty. Try clearing the outputs of this jupyter notebook and commenting out the `set_theme()` line and see the difference.\n",
    "\n",
    "Using either `python` console's `help()` function, `pydoc3` or your IDE, look at the help messaging for `load_dataset()`. Do you see a way to print the names? Do you see a link explaining a dataset? What type did this return to us?"
   ]
  },
  {
   "cell_type": "code",
   "execution_count": null,
   "metadata": {},
   "outputs": [],
   "source": [
    "# print type of tips\n",
    "print(type(tips))\n",
    "\n",
    "# print all datasets you have available to you\n",
    "print(sns.get_dataset_names())"
   ]
  },
  {
   "cell_type": "markdown",
   "metadata": {},
   "source": [
    "Inside the `relplot` call above, we used many strings associated with the data set (e.g. `total_bill` and `smoker`). These are the column names found in the data frame."
   ]
  },
  {
   "cell_type": "code",
   "execution_count": null,
   "metadata": {},
   "outputs": [],
   "source": [
    "# print the columns\n",
    "tips.columns"
   ]
  },
  {
   "cell_type": "markdown",
   "metadata": {},
   "source": [
    "As far as I can tell, seaborn doesn't offer inline metadata describing the columns, but it does provide a link to the data sets in its `load_datasets` documentation. Navigate through here and describe each column used name below:\n",
    "* `total_bill` : total bill, in dollars\n",
    "* `tip` : tip amount, in dollars\n",
    "* `time` : time of day, categorical\n",
    "* `smoker` : whether a smoker was present in party, categorical\n",
    "* `size` : number of members of the party"
   ]
  },
  {
   "cell_type": "markdown",
   "metadata": {},
   "source": [
    "## Themes\n",
    "\n",
    "We'll explore in more detail how to set the theme for your plot. To see more of what seaborn has to offer, look at their [aesthetics tutorial](https://seaborn.pydata.org/tutorial/aesthetics.html).\n",
    "\n",
    "### Palettes\n",
    "\n",
    "Let's customize our plot by selecting a color palette to our liking. You can find an intro on [their webpage](https://seaborn.pydata.org/tutorial/color_palettes.html). We'll use the `sns.color_palette()` function to sample various colors.\n",
    "\n",
    "Seaborn interacts with jupyter notebooks nicely in that it will print the sample colors if you run the `sns.color_palette()` on the last line."
   ]
  },
  {
   "cell_type": "code",
   "execution_count": null,
   "metadata": {},
   "outputs": [],
   "source": [
    "# put a string of your favorite color_palette from the seaborn example page into the color_palette\n",
    "sns.color_palette('colorblind')"
   ]
  },
  {
   "cell_type": "markdown",
   "metadata": {},
   "source": [
    "Alternatively, we can view a `color_palette` with Seaborn's built-in function call `palplot()` and `matplotlib.pyplot.show()`"
   ]
  },
  {
   "cell_type": "code",
   "execution_count": null,
   "metadata": {},
   "outputs": [],
   "source": [
    "import matplotlib.pyplot as plt\n",
    "\n",
    "sns.palplot(sns.color_palette('pastel')) # display another unique palette \n",
    "plt.show() # call matplotib's show function"
   ]
  },
  {
   "cell_type": "markdown",
   "metadata": {},
   "source": [
    "Let's create another function that passes in a list of palette names and then plots each one"
   ]
  },
  {
   "cell_type": "code",
   "execution_count": null,
   "metadata": {},
   "outputs": [],
   "source": [
    "# Create a function that takes in a list of names, loops through and plots each color palette\n",
    "def plot_many_palettes(names):\n",
    "    for name in names:\n",
    "        print(f\"Plotting color palette {name}:\")\n",
    "        sns.palplot(sns.color_palette(name))\n",
    "        plt.show()"
   ]
  },
  {
   "cell_type": "markdown",
   "metadata": {},
   "source": [
    "Let's call this function and plot three more unique color palettes."
   ]
  },
  {
   "cell_type": "code",
   "execution_count": null,
   "metadata": {},
   "outputs": [],
   "source": [
    "# call the plot_many_palettes and pass in a list of strings\n",
    "plot_many_palettes(['flare', 'husl', 'Spectral'])"
   ]
  },
  {
   "cell_type": "markdown",
   "metadata": {},
   "source": [
    "### Editing a font\n",
    "\n",
    "Seaborn allows us to set the font style and size with `set_theme`. The size of the font is scaled with the `font_scale` parameter, while the font style is set with the `font` parameter.\n",
    "\n",
    "\n",
    "Seaborn documentation tells us to consult [matplotlib documentation](https://matplotlib.org/stable/users/explain/text/fonts.html) for font information. We can use the `matplotlib.font_manager.get_font_names` to print all fonts available to us on our machine. These fonts should match the ones you find in Microsoft Word."
   ]
  },
  {
   "cell_type": "code",
   "execution_count": null,
   "metadata": {},
   "outputs": [],
   "source": [
    "# import font_manager directly from matplotlib library\n",
    "from matplotlib import font_manager\n",
    "\n",
    "# call font_manager's get_font_names function\n",
    "font_manager.get_font_names()"
   ]
  },
  {
   "cell_type": "markdown",
   "metadata": {},
   "source": [
    "Pick a font name (the name before the `.ttf` extension). This is what seaborn will recognize. We can confirm that `matplotlib` will recognize the font with the `findfont()` function"
   ]
  },
  {
   "cell_type": "code",
   "execution_count": null,
   "metadata": {},
   "outputs": [],
   "source": [
    "# confirm The font exists with findfont inside font_manager\n",
    "font_manager.findfont(\"DejaVu Sans\")"
   ]
  },
  {
   "cell_type": "markdown",
   "metadata": {},
   "source": [
    "### Theme Style\n",
    "\n",
    "We can set the overall style using the `set_style` function or by altering the `style` parameter in `set_theme`. Let's set"
   ]
  },
  {
   "cell_type": "markdown",
   "metadata": {},
   "source": [
    "### Setting the theme\n",
    "\n",
    "Now that we've sampled a few palettes and fonts, let's customize the original plot."
   ]
  },
  {
   "cell_type": "code",
   "execution_count": null,
   "metadata": {},
   "outputs": [],
   "source": [
    "# use set_theme to set the colors, font, and font scale\n",
    "sns.set_theme(palette=sns.color_palette('colorblind'), font='Henny Penny', font_scale=1.8)\n",
    "plot_sns_tips_example()"
   ]
  },
  {
   "cell_type": "markdown",
   "metadata": {},
   "source": [
    "# Creating and Manipulating Pandas Data Frames\n",
    "\n",
    "Let's practice making a pandas data frame from scratch. Pandas offers many different ways to achieve this (see [DataFrame documentation](https://pandas.pydata.org/docs/reference/api/pandas.DataFrame.html#pandas.DataFrame)). We'll create some random values and generate our first `DataFrame` object.\n",
    "\n",
    "## Aside, random number generation\n",
    "\n",
    "We will use this time to introduce random number generation. The `numpy` library can generate numbers of many distribution types. Let's explore a few."
   ]
  },
  {
   "cell_type": "code",
   "execution_count": null,
   "metadata": {},
   "outputs": [],
   "source": [
    "import numpy as np\n",
    "\n",
    "rng = np.random.default_rng(seed=12323)\n",
    "\n",
    "n_row = 100\n",
    "\n",
    "# Create 2 independent arrays of different random distributions \n",
    "x = rng.normal(size=n_row)\n",
    "y = rng.uniform(size=n_row)\n",
    "\n",
    "# Create a dependent variable array combining the other two with some variation\n",
    "dep = (2 * x + 10 * y) * rng.normal(loc=1, scale=0.01, size=n_row)"
   ]
  },
  {
   "cell_type": "markdown",
   "metadata": {},
   "source": [
    "Now, to convert these arrays into a data frame, we can use a dictionary. Using a column name as the key and the arrays as the values, we can simulate a table. We'll then pass that dictionary into a `pandas.DataFrame`."
   ]
  },
  {
   "cell_type": "markdown",
   "metadata": {},
   "source": [
    "## Creating a DataFrame from a dictionary"
   ]
  },
  {
   "cell_type": "code",
   "execution_count": null,
   "metadata": {},
   "outputs": [],
   "source": [
    "import pandas as pd\n",
    "\n",
    "# Create a dictionary, where the keys are the column names, and the values are the arrays we created above\n",
    "rand_dict = {'idx':range(n_row), 'x':x, 'y':y, 'dep':dep}\n",
    "\n",
    "# create a pandas DataFrame from the above dictionary\n",
    "rand_df = pd.DataFrame(rand_dict)\n",
    "rand_df"
   ]
  },
  {
   "cell_type": "markdown",
   "metadata": {},
   "source": [
    "## Reading DataFrame from file\n",
    "\n",
    "Let's load a `DataFrame` from a spreadsheet. From the `example-data` directory from the same repo that this notebook came from, we can find an excel spreadsheet labeled `multiple_variables_example.xlsx`. Let's load that using `pandas.read_excel`.\n",
    "\n",
    "**Note:** This may require an additional package install. Remember, use `pip install <package_name>` if a package is required."
   ]
  },
  {
   "cell_type": "code",
   "execution_count": null,
   "metadata": {},
   "outputs": [],
   "source": [
    "from pathlib import Path\n",
    "\n",
    "# use read_excel to save the spreadsheet as a dataframe\n",
    "df = pd.read_excel(Path('/home/clintc/projects/lab-lessons/example-data/multiple_variables_example.xlsx'))"
   ]
  },
  {
   "cell_type": "markdown",
   "metadata": {},
   "source": [
    "## Editing your dataframe\n",
    "\n",
    "It is common to have to doctor data as it comes into another language. For example, this data uses a dot (`.`) to separate words. For example, this data set has `height.cm`. A name like this can confuse python code. In python, the dot is reserved to separate [object](https://docs.python.org/3/tutorial/classes.html) members. Instead we should separate words with underscores (`_`). Dataframes allow for easy renaming of columns. Again, we use a dictionary to do this.\n",
    "\n",
    "The `rename()` function built into a `DataFrame` object expects a dictionary, where the key is the old name and the value is the new name."
   ]
  },
  {
   "cell_type": "code",
   "execution_count": null,
   "metadata": {},
   "outputs": [],
   "source": [
    "# rename columns 'age.yr' -> 'age_yr' and 'height.cm' -> 'height_cm'\n",
    "df = df.rename(columns={'age.yr':'age_yr','height.cm':'height_cm'}) # R naming conventions can cause problems in python"
   ]
  },
  {
   "cell_type": "markdown",
   "metadata": {},
   "source": [
    "We can also drop columns we are not interested in, We can do this from the `read_excel()` function used above, or later, with the `DataFrame` function `drop()`. We will pass into its `columns` parameter the `obs` column to drop. "
   ]
  },
  {
   "cell_type": "code",
   "execution_count": null,
   "metadata": {},
   "outputs": [],
   "source": [
    "# drop the 'obs' column from the data frame\n",
    "df = df.drop(columns=['obs']) # We're not interested in observation number"
   ]
  },
  {
   "cell_type": "markdown",
   "metadata": {},
   "source": [
    "## Performing analytics with DataFrame\n",
    "\n",
    "The `DataFrame` has built-in functions for quick analytics. For example, we can easily print the correlation between variables with its `corr()` function"
   ]
  },
  {
   "cell_type": "code",
   "execution_count": null,
   "metadata": {},
   "outputs": [],
   "source": [
    "# print the correlation table\n",
    "df.corr()"
   ]
  },
  {
   "cell_type": "markdown",
   "metadata": {},
   "source": [
    "Seaborn can display correlation tables quite nicely with one of its heatmaps. Let's pass in the correlation table to the `sns.heatmap()` function.\n",
    "* If we set `annot=True`, we can see the numbers inside each element\n",
    "* We can use `cmap` to change the default colors. We can pass it a string that `matplotlib.ColorMap` accepts (do `list(matplotlib.colormaps` for full list)"
   ]
  },
  {
   "cell_type": "code",
   "execution_count": null,
   "metadata": {},
   "outputs": [],
   "source": [
    "# Plot the correlations with color using sns.heatmap\n",
    "sns.heatmap(df.corr(), annot=True, cmap='coolwarm')"
   ]
  },
  {
   "cell_type": "markdown",
   "metadata": {},
   "source": [
    "Seaborn also has the `pairplot` function, which can show a matrix of scatter plots quite quickly"
   ]
  },
  {
   "cell_type": "code",
   "execution_count": null,
   "metadata": {},
   "outputs": [],
   "source": [
    "# call pairplot on the dataframe\n",
    "sns.pairplot(df)"
   ]
  },
  {
   "cell_type": "markdown",
   "metadata": {},
   "source": [
    "Lastly, we can plot linear regressions in `seaborn` using its `lmplot()` or `regplot()` functions."
   ]
  },
  {
   "cell_type": "code",
   "execution_count": null,
   "metadata": {},
   "outputs": [],
   "source": [
    "# plot the linear regression for each variable\n",
    "indep_cols = df.columns[:-1]\n",
    "\n",
    "for ind in indep_cols:\n",
    "    sns.lmplot(df, x=ind, y='biomass')\n",
    "    plt.show()"
   ]
  }
 ],
 "metadata": {
  "kernelspec": {
   "display_name": "lessons",
   "language": "python",
   "name": "python3"
  },
  "language_info": {
   "codemirror_mode": {
    "name": "ipython",
    "version": 3
   },
   "file_extension": ".py",
   "mimetype": "text/x-python",
   "name": "python",
   "nbconvert_exporter": "python",
   "pygments_lexer": "ipython3",
   "version": "3.12.3"
  }
 },
 "nbformat": 4,
 "nbformat_minor": 2
}
