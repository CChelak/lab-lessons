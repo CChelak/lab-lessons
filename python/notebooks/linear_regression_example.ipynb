{
 "cells": [
  {
   "cell_type": "markdown",
   "id": "aee506d8",
   "metadata": {
    "editable": true,
    "slideshow": {
     "slide_type": "slide"
    },
    "tags": []
   },
   "source": [
    "# Basic Regression\n",
    "\n",
    "For this, we'll do a simple linear regression as described [on this Wikipedia page](https://en.wikipedia.org/wiki/Simple_linear_regression), creating a line of best fit through a series of points."
   ]
  },
  {
   "cell_type": "markdown",
   "id": "70f777df",
   "metadata": {},
   "source": [
    "## Creating your virtual environment\n",
    "\n",
    "We'll install packages locally to the folder you're doing these exercises. This avoids conflicts with PC priveleges and To do this, let's create a virtual environment. The following commands will be run assuming you are using a Windows machine.\n",
    "\n",
    "Run the following from a terminal:\n",
    "\n",
    "```\n",
    "py -m venv lab\n",
    "```\n",
    "\n",
    "A virtual environment should be created in your directory. Look for a folder named `lab`. See what's inside. Look in the windows explorer, or type the following to see the contents:\n",
    "\n",
    "```\n",
    "tree lab\n",
    "```\n",
    "\n",
    "Inside a directory called `Scripts`, there is an `activate` file. In terminal, type the file: `lab\\Scripts\\activate`. Now, your virtual environment is activated, as indicated with the text `(lab)` at the front of the terminal entry line."
   ]
  },
  {
   "cell_type": "markdown",
   "id": "89a58cae-f37f-4840-b265-41bb1bbb841e",
   "metadata": {
    "editable": true,
    "slideshow": {
     "slide_type": "slide"
    },
    "tags": []
   },
   "source": [
    "## Manually Calculating the Linear Regression\n",
    "\n",
    "To get familiar with some python basics, we will manually perform a linear regression in R. Following sections will take advantage of existing libraries to do the leg-work for you.\n",
    "\n",
    "For this, we'll use `numpy`. Numpy is one of the most common python scientific packages. It includes a multi-dimensional array and some high-\n",
    "performance functions and operations on those arrays. I'd highly recommend viewing [their documentation](https://numpy.org/doc/stable/) to get a more-complete understanding. At the very least, go through [their absolute beginners tutorial](https://numpy.org/doc/stable/user/absolute_beginners.html) if you're starting from scratch."
   ]
  },
  {
   "cell_type": "markdown",
   "id": "c522af01-5fae-43ba-8589-5b7584bcc5e0",
   "metadata": {
    "editable": true,
    "slideshow": {
     "slide_type": "slide"
    },
    "tags": []
   },
   "source": [
    "We start by importing it. Because it is such a common library, it is convention to shorten the name with the `as` keyword. From there, we can access all its objects and functions with `np.` as seen below."
   ]
  },
  {
   "cell_type": "code",
   "execution_count": 1,
   "id": "039884a4",
   "metadata": {
    "editable": true,
    "slideshow": {
     "slide_type": "fragment"
    },
    "tags": []
   },
   "outputs": [
    {
     "name": "stdout",
     "output_type": "stream",
     "text": [
      "  x y\n",
      "[[1 2]\n",
      " [4 4]\n",
      " [9 5]\n",
      " [4 3]\n",
      " [5 5]]\n"
     ]
    }
   ],
   "source": [
    "import numpy as np # for performing arithmetic on homogeneous arrays\n",
    "\n",
    "x = np.array([1,4,9,4,5])\n",
    "y = np.array([2,4,5,3,5])\n",
    "\n",
    "xy = np.array([x, y]).transpose() # transpose not necessary, but it places the columns as you'd see your data elsewhere\n",
    "print(f\"  x y\\n{xy}\")"
   ]
  },
  {
   "cell_type": "markdown",
   "id": "d7ff2b8f-cd62-4afc-92ea-02711d1ddc52",
   "metadata": {
    "editable": true,
    "slideshow": {
     "slide_type": "slide"
    },
    "tags": []
   },
   "source": [
    "\n",
    "We can now take this array and use it going forward to find the mean on each column, using the same `numpy` library. Basic arithmetic of numpy arrays will be performed element-by-element, given that they are the same dimension. When not the same dimension, `numpy` will try to [broadcast](https://numpy.org/doc/stable/user/basics.broadcasting.html) the dimensions to perform element-wise arithmetic."
   ]
  },
  {
   "cell_type": "code",
   "execution_count": 2,
   "id": "806fdee9-e61c-4946-b7bd-ba8462b115f3",
   "metadata": {
    "editable": true,
    "slideshow": {
     "slide_type": "fragment"
    },
    "tags": []
   },
   "outputs": [
    {
     "name": "stdout",
     "output_type": "stream",
     "text": [
      "Mean of x 4.6 and mean of y 3.8\n",
      "Deviations (or least squares residuals) of x and y from its mean:\n",
      "  xdev ydev\n",
      "[[-3.6 -1.8]\n",
      " [-0.6  0.2]\n",
      " [ 4.4  1.2]\n",
      " [-0.6 -0.8]\n",
      " [ 0.4  1.2]]\n"
     ]
    }
   ],
   "source": [
    "xy_mean = xy.mean(axis=0)\n",
    "print(f\"Mean of x {xy_mean[0]} and mean of y {xy_mean[1]}\")\n",
    "xy_dev = xy - xy_mean\n",
    "print(f\"Deviations (or least squares residuals) of x and y from its mean:\\n  xdev ydev\\n{xy_dev}\")"
   ]
  },
  {
   "cell_type": "code",
   "execution_count": 3,
   "id": "4245433e-aaec-42ed-9cfe-59c072651be1",
   "metadata": {
    "editable": true,
    "scrolled": true,
    "slideshow": {
     "slide_type": "fragment"
    },
    "tags": []
   },
   "outputs": [
    {
     "name": "stdout",
     "output_type": "stream",
     "text": [
      "slope = 0.3795180722891566\n",
      "intercept = 2.0542168674698793\n",
      "In the form y = a + bx, we have:\n",
      "  y = 2.05 + 0.38x\n"
     ]
    }
   ],
   "source": [
    "regression_slope = np.sum(xy_dev[:,0] * xy_dev[:,1]) / np.sum(xy_dev[:,0]**2)\n",
    "print(f\"slope = {regression_slope}\")\n",
    "regression_intercept = xy_mean[1] - regression_slope * xy_mean[0]\n",
    "print(f\"intercept = {regression_intercept}\")\n",
    "\n",
    "print(f\"In the form y = a + bx, we have:\\n  y = {regression_intercept:.2f} + {regression_slope:.2f}x\")"
   ]
  },
  {
   "cell_type": "markdown",
   "id": "3b1c7747",
   "metadata": {
    "editable": true,
    "slideshow": {
     "slide_type": "slide"
    },
    "tags": []
   },
   "source": [
    "### Plotting\n",
    "\n",
    "We'll create a function to plot the points and best fit line, so that we can call it throughout this notebook. To do this, we'll use `matplotlib`: see [documentation here](https://matplotlib.org/stable/api/index)."
   ]
  },
  {
   "cell_type": "code",
   "execution_count": 4,
   "id": "fea8747b",
   "metadata": {
    "editable": true,
    "slideshow": {
     "slide_type": "subslide"
    },
    "tags": []
   },
   "outputs": [
    {
     "data": {
      "image/png": "[encoded data removed]",
      "text/plain": [
       "<Figure size 640x480 with 1 Axes>"
      ]
     },
     "metadata": {},
     "output_type": "display_data"
    }
   ],
   "source": [
    "import matplotlib.pyplot as plt\n",
    "\n",
    "def plot_best_fit(x, y, slope, intercept):\n",
    "    plt.plot(x,y, 'o', label=\"Example data\", markersize=10)\n",
    "    plt.plot(x, slope * x + intercept, label=\"Fitted line\")\n",
    "    plt.legend()\n",
    "    plt.show()\n",
    "    \n",
    "plot_best_fit(x,y, regression_slope, regression_intercept)"
   ]
  },
  {
   "cell_type": "markdown",
   "id": "6f36f92e",
   "metadata": {},
   "source": [
    "### Finding Sum of Squared values and R-squared\n",
    "\n",
    "We will calculate the following 3 sum of square values:\n",
    "\n",
    "1. Sum of Squares Total -- SST\n",
    "2. Sum of Squares Regression -- SSR\n",
    "3. Sum of Squares Estimate of Errors -- SSE\n",
    "\n",
    "The equations are as follows\n",
    "\n",
    "$$\n",
    "SST = \\sum (y_i - \\bar{y}) \\\\\n",
    "SSR = \\sum (\\hat{y}_i – \\bar{y})^2 \\\\\n",
    "SSE = \\sum (y_i - \\hat{y_i})^2\n",
    "$$\n",
    "\n",
    "Where $y_i$ is each observed y entry, $\\hat{y}_i$ is the predicted y entry and $\\bar{y}$ is the mean.\n",
    "\n",
    "Note the following relationship:\n",
    "$$SST = SSR + SSE$$\n",
    "\n",
    "We can calculate all three with our previously calculated values in `xy_dev` and `xy_mean`, and `np.sum`. Just as we did in the plot above, we can calculate all the predicted values with our initial `x` and store it in a variable called `y_hat`."
   ]
  },
  {
   "cell_type": "code",
   "execution_count": 5,
   "id": "056b1a8e",
   "metadata": {},
   "outputs": [
    {
     "name": "stdout",
     "output_type": "stream",
     "text": [
      "Sum of Squares Total: 6.8000\n",
      "Sum of Squares Regression: 4.7819\n",
      "Sum of Squares Estimate of Errors: 2.0181\n"
     ]
    }
   ],
   "source": [
    "sst = np.sum(xy_dev[:,1]**2)\n",
    "print(f\"Sum of Squares Total: {sst:.4f}\")\n",
    "\n",
    "y_hat = x * regression_slope + regression_intercept\n",
    "ssr = np.sum((y_hat - xy_mean[1])**2)\n",
    "print(f\"Sum of Squares Regression: {ssr:.4f}\")\n",
    "\n",
    "sse = sst - ssr\n",
    "print(f\"Sum of Squares Estimate of Errors: {sse:.4f}\")"
   ]
  },
  {
   "cell_type": "markdown",
   "id": "b3313078",
   "metadata": {},
   "source": [
    "Finally, we can calculate R-squared with the following formula:\n",
    "$$R^2 = \\frac{SSR}{SST}$$"
   ]
  },
  {
   "cell_type": "code",
   "execution_count": 6,
   "id": "f9955048",
   "metadata": {},
   "outputs": [
    {
     "name": "stdout",
     "output_type": "stream",
     "text": [
      "r-squared = 0.7032246633593198\n"
     ]
    }
   ],
   "source": [
    "r_squared = ssr / sst\n",
    "print(f\"r-squared = {r_squared}\")"
   ]
  },
  {
   "cell_type": "markdown",
   "id": "e50edb62-cbcf-4fdd-9a3e-5e7f1233e1a2",
   "metadata": {
    "editable": true,
    "slideshow": {
     "slide_type": "slide"
    },
    "tags": []
   },
   "source": [
    "## The SciPy Solution\n",
    "\n",
    "Performing a linear regression in python is easy with the [scipy](https://docs.scipy.org/doc/scipy/index.html) library. Below shows an example of generated output with arbitrary inputs. We'll use the [linregress](https://docs.scipy.org/doc/scipy/reference/generated/scipy.stats.linregress.html) function found in the stats module of scipy. It will return a variety of variables, including slope, intercept and many others.\n",
    "\n",
    "We'll also use [numpy](https://numpy.org/doc/stable/) throughout this tutorial. It is contains a useful and efficient way to store and manipulate arrays."
   ]
  },
  {
   "cell_type": "code",
   "execution_count": 7,
   "id": "aaab9e59",
   "metadata": {
    "editable": true,
    "slideshow": {
     "slide_type": "subslide"
    },
    "tags": []
   },
   "outputs": [
    {
     "name": "stdout",
     "output_type": "stream",
     "text": [
      "Printing object shows all returned data:\n",
      "LinregressResult(slope=np.float64(0.3795180722891567), intercept=np.float64(2.0542168674698793), rvalue=np.float64(0.8385849172023784), pvalue=np.float64(0.0759355182294835), stderr=np.float64(0.14234384416423515), intercept_stderr=np.float64(0.7505179579506192))\n",
      "\n",
      "Let's break down what was returned.\n",
      "  * slope (0.38) and intercept (2.05) are used to find line of best fit.\n",
      "  * r-value (0.84), or Pearson's coefficient, which we can use to get to r-squared,\n",
      "    the coeffecient of determination (0.7032)\n",
      "  * p-value for hypothesis testing (0.08).\n",
      "    The alternative hypothesis can be set in function call with 'alternative' argument.\n",
      "  * standard error of the slope (0.14) and of the intercept (0.75), assuming residual normality\n"
     ]
    }
   ],
   "source": [
    "import scipy\n",
    "\n",
    "lin_reg = scipy.stats.linregress(x,y)\n",
    "\n",
    "print(f\"Printing object shows all returned data:\\n{lin_reg}\\n\")\n",
    "\n",
    "print(\"Let's break down what was returned.\\n\"\n",
    "      f\"  * slope ({lin_reg.slope:.2f}) and intercept ({lin_reg.intercept:.2f}) are used to find line of best fit.\\n\"\n",
    "      f\"  * r-value ({lin_reg.rvalue:.2f}), or Pearson's coefficient, which we can use to get to r-squared,\\n\"\n",
    "      f\"    the coeffecient of determination ({lin_reg.rvalue**2:.4f})\\n\"\n",
    "      f\"  * p-value for hypothesis testing ({lin_reg.pvalue:.2f}).\\n\"\n",
    "      f\"    The alternative hypothesis can be set in function call with 'alternative' argument.\\n\"\n",
    "      f\"  * standard error of the slope ({lin_reg.stderr:.2f}) and of the intercept ({lin_reg.intercept_stderr:.2f}), assuming residual normality\"\n",
    "     )"
   ]
  },
  {
   "cell_type": "markdown",
   "id": "8363361c",
   "metadata": {
    "editable": true,
    "slideshow": {
     "slide_type": "slide"
    },
    "tags": []
   },
   "source": [
    "We can use the function we created above to plot the results"
   ]
  },
  {
   "cell_type": "code",
   "execution_count": 8,
   "id": "9fce47dc",
   "metadata": {
    "editable": true,
    "slideshow": {
     "slide_type": "subslide"
    },
    "tags": []
   },
   "outputs": [
    {
     "data": {
      "image/png": "[encoded data removed]",
      "text/plain": [
       "<Figure size 640x480 with 1 Axes>"
      ]
     },
     "metadata": {},
     "output_type": "display_data"
    }
   ],
   "source": [
    "plot_best_fit(x, y, lin_reg.slope, lin_reg.intercept)"
   ]
  },
  {
   "cell_type": "markdown",
   "id": "f0444862-7f30-4fd6-b1d1-0e876c3af8e7",
   "metadata": {
    "editable": true,
    "slideshow": {
     "slide_type": "slide"
    },
    "tags": []
   },
   "source": [
    "## Using numpy Least Squares function\n",
    "\n",
    "If we wanted to solve a least-squares regression more optimally using only `numpy`, we can use linear algebra and a tool available in `numpy` already. The `numpy` library has a linear algebra submodule and in there is a least-square solution: `numpy.linalg.lstsq`, see [the help page](https://numpy.org/doc/stable/reference/generated/numpy.linalg.lstsq.html) for their own example.\n",
    "\n",
    "The result of `np.linalg.lstsq` provides a few useful parameters for the data given, such as the solution itself (slope and intercept) along with average of the squared residuals, matrix rank, etc. Really, we're interested in the first things it returns, the solution (i.e. slope, intercept)."
   ]
  },
  {
   "cell_type": "code",
   "execution_count": 9,
   "id": "9cda710a-653b-4383-9587-f44d4a6a60d5",
   "metadata": {
    "editable": true,
    "slideshow": {
     "slide_type": "subslide"
    },
    "tags": []
   },
   "outputs": [
    {
     "name": "stdout",
     "output_type": "stream",
     "text": [
      "slope = 0.37951807228915657, intercept = 2.0542168674698797\n",
      "sum of residuals, squared (or SSE): [2.01807229]\n",
      "matrix rank = 2\n",
      "singular values of input (A): [11.95147869  1.07803386]\n"
     ]
    }
   ],
   "source": [
    "A = np.array([x, np.ones(len(x))]).T # T is shortcut for \"transpose()\"\n",
    "lstsq_out = np.linalg.lstsq(A, y, rcond=None) # Finding the least-squares solution to Ax = y\n",
    "\n",
    "slope, intercept = lstsq_out[0]\n",
    "print(f\"slope = {slope}, intercept = {intercept}\")\n",
    "print(f\"sum of residuals, squared (or SSE): {lstsq_out[1]}\")\n",
    "print(f\"matrix rank = {lstsq_out[2]}\")\n",
    "print(f\"singular values of input (A): {lstsq_out[3]}\")"
   ]
  },
  {
   "cell_type": "markdown",
   "id": "e9f2c331-4449-4a83-b804-15abd05cb707",
   "metadata": {},
   "source": [
    "Again, we can plot our results, as we saw before."
   ]
  },
  {
   "cell_type": "code",
   "execution_count": 10,
   "id": "d32938e1-92b2-4496-bdc3-f39c98cf8914",
   "metadata": {
    "editable": true,
    "slideshow": {
     "slide_type": "slide"
    },
    "tags": []
   },
   "outputs": [
    {
     "data": {
      "image/png": "[encoded data removed]",
      "text/plain": [
       "<Figure size 640x480 with 1 Axes>"
      ]
     },
     "metadata": {},
     "output_type": "display_data"
    }
   ],
   "source": [
    "plot_best_fit(x,y, slope, intercept)"
   ]
  },
  {
   "cell_type": "markdown",
   "id": "76da7224",
   "metadata": {},
   "source": [
    "## Using statsmodel to tell us everything in the universe\n",
    "\n",
    "The [statsmodel](https://www.statsmodels.org/stable/) is a swiss army knife for creating and observing statistical models. In a few lines of codes, you can be handed a table of statistical summaries. It can be seen as a merger between the worlds of R and python, and functions primarily with `pandas.DataFrame` objects, similar to R's data frames.\n",
    "\n",
    "Below we'll run an Oridinary Least Squares regression model on the data, see a table printing a summary on multiple statistics."
   ]
  },
  {
   "cell_type": "code",
   "execution_count": 11,
   "id": "f576ea1d",
   "metadata": {},
   "outputs": [
    {
     "name": "stdout",
     "output_type": "stream",
     "text": [
      "                            OLS Regression Results                            \n",
      "==============================================================================\n",
      "Dep. Variable:                 height   R-squared:                       0.703\n",
      "Model:                            OLS   Adj. R-squared:                  0.604\n",
      "Method:                 Least Squares   F-statistic:                     7.109\n",
      "Date:                Mon, 03 Mar 2025   Prob (F-statistic):             0.0759\n",
      "Time:                        12:52:01   Log-Likelihood:                -8.7905\n",
      "No. Observations:                   5   AIC:                             21.58\n",
      "Df Residuals:                       3   BIC:                             20.80\n",
      "Df Model:                           1                                         \n",
      "Covariance Type:            nonrobust                                         \n",
      "==============================================================================\n",
      "                 coef    std err          t      P>|t|      [0.025      0.975]\n",
      "------------------------------------------------------------------------------\n",
      "Intercept     -2.4412      2.762     -0.884      0.442     -11.233       6.350\n",
      "weight         1.8529      0.695      2.666      0.076      -0.359       4.065\n",
      "==============================================================================\n",
      "Omnibus:                          nan   Durbin-Watson:                   1.969\n",
      "Prob(Omnibus):                    nan   Jarque-Bera (JB):                0.369\n",
      "Skew:                           0.289   Prob(JB):                        0.832\n",
      "Kurtosis:                       1.802   Cond. No.                         14.3\n",
      "==============================================================================\n",
      "\n",
      "Notes:\n",
      "[1] Standard Errors assume that the covariance matrix of the errors is correctly specified.\n"
     ]
    },
    {
     "name": "stderr",
     "output_type": "stream",
     "text": [
      "/home/clintc/projects/lab-lessons/python/lessons/lib/python3.12/site-packages/statsmodels/stats/stattools.py:74: ValueWarning: omni_normtest is not valid with less than 8 observations; 5 samples were given.\n",
      "  warn(\"omni_normtest is not valid with less than 8 observations; %i \"\n"
     ]
    }
   ],
   "source": [
    "from statsmodels.formula.api import ols # Oridinary Least Squares regression\n",
    "from statsmodels.stats.api import anova_lm # For ANOVA least squares\n",
    "from pandas import DataFrame\n",
    "\n",
    "xy_df = DataFrame(data=xy, columns=[\"height\", \"weight\"]) # statsmodels lives in the world of data frames\n",
    "ols_fit_results = ols(formula=\"height ~ weight\", data=xy_df).fit()\n",
    "\n",
    "print(ols_fit_results.summary())"
   ]
  }
 ],
 "metadata": {
  "kernelspec": {
   "display_name": "lessons",
   "language": "python",
   "name": "python3"
  },
  "language_info": {
   "codemirror_mode": {
    "name": "ipython",
    "version": 3
   },
   "file_extension": ".py",
   "mimetype": "text/x-python",
   "name": "python",
   "nbconvert_exporter": "python",
   "pygments_lexer": "ipython3",
   "version": "3.12.3"
  }
 },
 "nbformat": 4,
 "nbformat_minor": 5
}
