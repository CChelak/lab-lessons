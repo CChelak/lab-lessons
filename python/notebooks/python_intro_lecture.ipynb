{
 "cells": [
  {
   "cell_type": "markdown",
   "id": "3f6de063-9b47-4ddb-b8df-706ad4841f24",
   "metadata": {
    "editable": true,
    "slideshow": {
     "slide_type": "slide"
    },
    "tags": []
   },
   "source": [
    "# What to gain from the class\n",
    "\n",
    "By the end of the class I want each of you to have:\n",
    "\n",
    "* The briefest of introduction to Python, with resources to find out more\n",
    "* Confidence that Python can help you do your analytics quickly and effectively\n",
    "* The relief that you survived the initial anxiety of learning a new language\n",
    "\n",
    "This will be a first pass, so I don’t expect you to remember most of it by the end of the lesson.\n",
    "\n",
    "I want to convince you that Python is a very quick and easy tool to pick up to get you to do your analytics. Most people’s reaction to python when developing a python script was, “oh, it was really that easy?” I hope you see that many of the tools are already there for you to use."
   ]
  },
  {
   "cell_type": "markdown",
   "id": "baf94373",
   "metadata": {
    "editable": true,
    "slideshow": {
     "slide_type": "slide"
    },
    "tags": []
   },
   "source": [
    "# Getting started\n",
    "\n",
    "Above all else, please check out [the official documentation and tutorial for python](https://docs.python.org/3/tutorial/index.html). This is a well-visited and reviewed piece of documentation, and will give you a clearer and more thorough introduction to the language than I will.\n",
    "\n",
    "A word of caution on Stack Overflow and ChatGPT: they are excellent tools to get quick answers, but if you find yourself on it more than you are programming yourself, it is an indication that you should slow down and review the initial documentation. It will not be a waste of your time to schedule a block to read the documentation comprehensively. You will thank yourself later for learning the fundamentals."
   ]
  },
  {
   "cell_type": "markdown",
   "id": "64af6feb",
   "metadata": {
    "editable": true,
    "slideshow": {
     "slide_type": "slide"
    },
    "tags": []
   },
   "source": [
    "# Interactive Mode – Python’s console\n",
    "\n",
    "The [interactive interpreter](https://docs.python.org/3/tutorial/interpreter.html) is a convenient tool to run quick python code, install packages, read help documentation, and more. In it, you can type basic python commands and execute them immediately.\n",
    "\n",
    "The interpreter provides a help tool to the python user, too. You can type help to open an interactive help menu. Within it, you can type in package names or keywords that it lists to get a description on how to use tools in python.\n",
    "\n",
    "It also stores a history of commands run. You can use it to scroll up through previous commands (with the up arrow).\n",
    "\n",
    "Also, it supports tab-completion. Typing a single tab will cause the interpreter to finish the line you were typing. If there are multiple correct options, you can press tab a second time and it will show all possible options.\n",
    "\n",
    "A word of caution: don’t over-rely on the console to run code. Get into the habit of writing code to file and saving it. Better yet, version-control your python files using a tool like git."
   ]
  },
  {
   "cell_type": "markdown",
   "id": "f1d83e8f",
   "metadata": {
    "editable": true,
    "slideshow": {
     "slide_type": "slide"
    },
    "tags": []
   },
   "source": [
    "# Python Basics and Keywords\n",
    "\n",
    "## Defining Variables\n",
    "\n",
    "Defining variables is simple in python, just place an equal size between the variable name on left and its value on the right. You don't have to specify the type of the variable on assignment. Python figures it out under the hood."
   ]
  },
  {
   "cell_type": "code",
   "execution_count": null,
   "id": "4b174e62",
   "metadata": {
    "editable": true,
    "slideshow": {
     "slide_type": "fragment"
    },
    "tags": []
   },
   "outputs": [],
   "source": [
    "num = 3\n",
    "name = \"Clint\"\n",
    "my_list = [1, 2, 3]"
   ]
  },
  {
   "cell_type": "markdown",
   "id": "cdd77980",
   "metadata": {
    "editable": true,
    "slideshow": {
     "slide_type": "slide"
    },
    "tags": []
   },
   "source": [
    "## Variable Types\n",
    "\n",
    "If you're curious to find the type of a variable, use the `type()` function. Use the `print()` function to display lines. In the interactive interpreter, you can omit the print statement."
   ]
  },
  {
   "cell_type": "code",
   "execution_count": null,
   "id": "5f79858e",
   "metadata": {
    "editable": true,
    "slideshow": {
     "slide_type": "fragment"
    },
    "tags": []
   },
   "outputs": [],
   "source": [
    "print(type(num))\n",
    "print(type(name))\n",
    "print(type(my_list))"
   ]
  },
  {
   "cell_type": "markdown",
   "id": "c1ba822d",
   "metadata": {
    "editable": true,
    "slideshow": {
     "slide_type": "slide"
    },
    "tags": []
   },
   "source": [
    "## Numbers of Varying Format\n",
    "\n",
    "There are multiple types of numbers that can be stored in python. Further, numbers can be written in many ways:"
   ]
  },
  {
   "cell_type": "code",
   "execution_count": null,
   "id": "a237b309",
   "metadata": {
    "editable": true,
    "slideshow": {
     "slide_type": "fragment"
    },
    "tags": []
   },
   "outputs": [],
   "source": [
    "my_integer = 3\n",
    "my_float = 3.4 # floating point values, representing fractional numbers\n",
    "imaginary = 1 + 3j # Note, python uses a 'j' instead of an 'i' for imaginary numbers\n",
    "imaginary_2 = complex(1,3)\n",
    "large_num = 1.56E50 # This reads 1.56 times 10 to the 50th power"
   ]
  },
  {
   "cell_type": "markdown",
   "id": "18c155dc",
   "metadata": {
    "editable": true,
    "slideshow": {
     "slide_type": "slide"
    },
    "tags": []
   },
   "source": [
    "## Operators\n",
    "\n",
    "Python offers a wide variety of operators. We can look at a few for arithmetic and for comparison below."
   ]
  },
  {
   "cell_type": "code",
   "execution_count": null,
   "id": "32e0894d",
   "metadata": {
    "editable": true,
    "slideshow": {
     "slide_type": "subslide"
    },
    "tags": []
   },
   "outputs": [],
   "source": [
    "print(\"Basic arithmetic:\",\n",
    "      3 + 3, # addition\n",
    "      2 - 1, # subtraction\n",
    "      4 * 5, # multiplication\n",
    "      6 / 3, # division\n",
    "      2 ** 3, # exponent\n",
    "      7 // 2, # integer division\n",
    "      91 % 4, # modulo or remainder\n",
    "      sep='\\n  '\n",
    ")\n",
    "\n",
    "print(\"Comparison operators:\",\n",
    "      2 == 2, # test equality\n",
    "      2 != 1, # inequality\n",
    "      5 > 3, # greater than\n",
    "      7 <= 2, # less-than or equal to\n",
    "      sep='\\n  ' # define separator between each print entry\n",
    ")"
   ]
  },
  {
   "cell_type": "markdown",
   "id": "a7f78146",
   "metadata": {
    "editable": true,
    "slideshow": {
     "slide_type": "subslide"
    },
    "tags": []
   },
   "source": [
    "There are shortcut arithmetic operators built into python. Placing the operator before an equal `=` sign will apply the value on the right to the variable to the left. Let's edit the `num` variable that I created earlier."
   ]
  },
  {
   "cell_type": "code",
   "execution_count": null,
   "id": "873f6d8e",
   "metadata": {
    "editable": true,
    "slideshow": {
     "slide_type": "fragment"
    },
    "tags": []
   },
   "outputs": [],
   "source": [
    "# The following assignments are equivalent\n",
    "print(\"num's original value:\", num)\n",
    "\n",
    "num = num + 3 # add 3 to \"num\", then assign the result to num\n",
    "print(\"add 3 to num:\", num)\n",
    "\n",
    "num += 3 # add 3 to num\n",
    "print(\"added 3 again:\", num)\n",
    "\n",
    "# You can do this with most arithmetic operators\n",
    "num **= 2\n",
    "print(\"raised num to power of 2:\", num)\n",
    "num /= 5\n",
    "print(\"divided num by 5:\", num)"
   ]
  },
  {
   "cell_type": "markdown",
   "id": "328e9534",
   "metadata": {
    "editable": true,
    "slideshow": {
     "slide_type": "slide"
    },
    "tags": []
   },
   "source": [
    "## Text and Strings\n",
    "\n",
    "There are quite a few methods for creating strings, or text, in python. You can use either single quotes `'` or double-quotes `\"` to create a string, whichever is more convenient is to you."
   ]
  },
  {
   "cell_type": "code",
   "execution_count": null,
   "id": "7df7dc38",
   "metadata": {
    "editable": true,
    "slideshow": {
     "slide_type": "fragment"
    },
    "tags": []
   },
   "outputs": [],
   "source": [
    "single_quote = 'Here is some text'\n",
    "double_quote = \"Some more text\""
   ]
  },
  {
   "cell_type": "markdown",
   "id": "ae2cd53a",
   "metadata": {
    "editable": true,
    "slideshow": {
     "slide_type": "subslide"
    },
    "tags": []
   },
   "source": [
    "We can create a multi-line text block with triple single quotes `'''` or triple double quotes `\"\"\"`. Everything following will be part of the string until it finds a matching triple quote."
   ]
  },
  {
   "cell_type": "code",
   "execution_count": null,
   "id": "703c24d0",
   "metadata": {
    "editable": true,
    "slideshow": {
     "slide_type": "fragment"
    },
    "tags": []
   },
   "outputs": [],
   "source": [
    "multi_line = \"\"\"Here are multiple lines\n",
    "of text\n",
    "and this is completely legitimate\n",
    "\"\"\"\n",
    "\n",
    "print(multi_line)"
   ]
  },
  {
   "cell_type": "markdown",
   "id": "117130a7",
   "metadata": {
    "editable": true,
    "slideshow": {
     "slide_type": "slide"
    },
    "tags": []
   },
   "source": [
    "Lastly, I'm a frequent user of [the formatted string](https://docs.python.org/3/tutorial/inputoutput.html#tut-f-strings). It allows for displaying variables their values inline with the text. A formatted string if created by placing an `f` before the quotes: e.g. `f\"a formatted string\"`. To display a variable in a formatted string, place it in curly braces `{}`.\n",
    "\n",
    "We'll print a few previously-defined variables below with formatted strings.  "
   ]
  },
  {
   "cell_type": "code",
   "execution_count": null,
   "id": "71f4eb35",
   "metadata": {
    "editable": true,
    "slideshow": {
     "slide_type": "subslide"
    },
    "tags": []
   },
   "outputs": [],
   "source": [
    "print(f'Here is my name: {name}')\n",
    "\n",
    "print(f'You can display name and value together with \"=\". Like this: {my_list=}')\n",
    "\n",
    "# There are tools to change precision of numbers by adding a colon afterwards.\n",
    "long_float = 34.234324324324 \n",
    "print(f'Adding \":.3f\" after variable name says, \"show first 3 decimal numbers: {long_float:.3f}')"
   ]
  },
  {
   "cell_type": "markdown",
   "id": "7c9c9df8",
   "metadata": {
    "editable": true,
    "slideshow": {
     "slide_type": "slide"
    },
    "tags": []
   },
   "source": [
    "## Comments\n",
    "\n",
    "Comments are used with the hash: `#`. Everything that follows it will be ignored by the interpreter. Examples of this are seen above in this document.\n",
    "\n",
    "Further, lone triple-quotes (`\"\"\"`) will be ignored by the interpreter when it is found in a file. For this reason, it is used to formally document code."
   ]
  },
  {
   "cell_type": "code",
   "execution_count": null,
   "id": "1c46cf45",
   "metadata": {
    "editable": true,
    "slideshow": {
     "slide_type": "fragment"
    },
    "tags": []
   },
   "outputs": [],
   "source": [
    "'''A comment: This variable does cool stuff'''\n",
    "cool_stuff = 59393"
   ]
  },
  {
   "cell_type": "markdown",
   "id": "5420ac40",
   "metadata": {
    "editable": true,
    "slideshow": {
     "slide_type": "slide"
    },
    "tags": []
   },
   "source": [
    "## Lists\n",
    "\n",
    "[Lists](https://docs.python.org/3/tutorial/introduction.html#lists) are python's built-in container to store ordered values. We saw an example above of a list getting created with `my_list`. Let's create another. A list is created with square brackets `[]` with commas separating each entry."
   ]
  },
  {
   "cell_type": "code",
   "execution_count": null,
   "id": "4e58a7c4",
   "metadata": {
    "editable": true,
    "slideshow": {
     "slide_type": "subslide"
    },
    "tags": []
   },
   "outputs": [],
   "source": [
    "# A single list can store objects of different types\n",
    "# They can even store other lists!\n",
    "mixed_list = [1, 3.4, 'a', [3, 2, 1]]\n",
    "\n",
    "print(f\"{mixed_list=}\")\n",
    "\n",
    "# Accessing an element is done with brackets after name\n",
    "print(f\"{mixed_list[0]=}\") # indexing starts at 0\n",
    "print(f\"{mixed_list[2]=}\")\n",
    "print(f\"{mixed_list[-1]=}\") # negative index means start at end of list"
   ]
  },
  {
   "cell_type": "code",
   "execution_count": null,
   "id": "b2499f89-8900-4b30-9677-e1d5d41582ff",
   "metadata": {
    "editable": true,
    "slideshow": {
     "slide_type": "subslide"
    },
    "tags": []
   },
   "outputs": [],
   "source": [
    "mixed_list[2] = 'b' # you can edit a single entry\n",
    "print(f\"After editing: {mixed_list=}\")\n",
    "\n",
    "# you can remove a single element\n",
    "del mixed_list[3]\n",
    "print(f\"After removal: {mixed_list=}\")"
   ]
  },
  {
   "cell_type": "code",
   "execution_count": null,
   "id": "24047196-5bcc-4b99-b424-07956c18078f",
   "metadata": {
    "editable": true,
    "slideshow": {
     "slide_type": "subslide"
    },
    "tags": []
   },
   "outputs": [],
   "source": [
    "# or you can append two lists together\n",
    "mixed_list = mixed_list + my_list\n",
    "print(mixed_list)\n",
    "\n",
    "# to see how many elements are in a list, use len()\n",
    "print(f\"Number of elements: {len(mixed_list)}\")\n",
    "\n",
    "# to see if an element is in a list use in keyword\n",
    "print(\"'a' is in our list:\", 'a' in mixed_list)\n",
    "print(\"'b' is in our list:\", 'b' in mixed_list)"
   ]
  },
  {
   "cell_type": "markdown",
   "id": "a605218b",
   "metadata": {
    "editable": true,
    "slideshow": {
     "slide_type": "slide"
    },
    "tags": []
   },
   "source": [
    "## Sets\n",
    "\n",
    "A [set](https://docs.python.org/3/tutorial/datastructures.html#sets) is an unordered collection of data where there are no duplicate elements. It is created with curly braces `{}` and the elements are comma separated. "
   ]
  },
  {
   "cell_type": "code",
   "execution_count": null,
   "id": "b92cefe1",
   "metadata": {
    "editable": true,
    "slideshow": {
     "slide_type": "subslide"
    },
    "tags": []
   },
   "outputs": [],
   "source": [
    "my_set = {'a', 'b', 'c', 'a'} # note two 'a' values\n",
    "print(my_set)\n",
    "\n",
    "# like lists, to find if an element is in a set, use 'in' keyword\n",
    "print(\"'c' is in my_set:\",\n",
    "      'c' in my_set)\n",
    "\n",
    "# remove an element with remove() or discard()\n",
    "my_set.remove('c') # remove throws error if it can't find element\n",
    "my_set.discard('d') # will not complain if it can't find it\n",
    "print(\"Set after removal\", my_set)\n",
    "\n",
    "# you can add elements with f\n",
    "my_set.add('f')\n",
    "print(\"After adding an element:\", my_set)"
   ]
  },
  {
   "cell_type": "markdown",
   "id": "dd2803ca",
   "metadata": {
    "editable": true,
    "slideshow": {
     "slide_type": "slide"
    },
    "tags": []
   },
   "source": [
    "## Dictionary\n",
    "\n",
    "A [dictionary](https://docs.python.org/3/tutorial/datastructures.html#dictionaries) is an associative object, matching a unique key to any value. This is one of pythons more famous and heavily used container objects. The versatility is strong, and can be used to represent most things. Like a set, you create it with curly braces `{}`, but in each comma-separated element you provide it a key and value, separated by a colon `:`.  "
   ]
  },
  {
   "cell_type": "code",
   "execution_count": null,
   "id": "014ddc06",
   "metadata": {
    "editable": true,
    "slideshow": {
     "slide_type": "subslide"
    },
    "tags": []
   },
   "outputs": [],
   "source": [
    "dict_about_me = {'my_brain':'thinking', 'num_arms':2, 'my_hands':'typing'}\n",
    "\n",
    "# add new elements with square brackets and =\n",
    "dict_about_me['my_feet'] = 'dancing'\n",
    "\n",
    "# access with square brackets, too\n",
    "print(\"What is my brain doing?\", dict_about_me['my_brain'])\n",
    "\n",
    "# list keys and values with keys() and values() functions\n",
    "print(\"Keys: \", dict_about_me.keys())\n",
    "print(\"Values: \", dict_about_me.values())"
   ]
  },
  {
   "cell_type": "markdown",
   "id": "e8884773",
   "metadata": {
    "editable": true,
    "slideshow": {
     "slide_type": "slide"
    },
    "tags": []
   },
   "source": [
    "## Indentation\n",
    "\n",
    "Spaces and indents have special meaning in python. A set number of spaces before a line means a continuation of logic. You can't arbitrarily indent lines without python getting mad.\n",
    "\n",
    "The convention is to add 4 spaces to indent, but you can set the number of spaces to just about anything. As long as you are consistent in the file, python can figure it out."
   ]
  },
  {
   "cell_type": "code",
   "execution_count": null,
   "id": "666cff4f",
   "metadata": {
    "editable": true,
    "slideshow": {
     "slide_type": "fragment"
    },
    "tags": []
   },
   "outputs": [],
   "source": [
    "# If you uncomment the line below, python will complain\n",
    "#          my_var = 3"
   ]
  },
  {
   "cell_type": "markdown",
   "id": "35d31445",
   "metadata": {
    "editable": true,
    "slideshow": {
     "slide_type": "slide"
    },
    "tags": []
   },
   "source": [
    "## Classes and Objects\n",
    "\n",
    "[Classes](https://docs.python.org/3/tutorial/classes.html) are not something that I will review in the lesson, of the scope of the subject is too vast for this short lesson. However they are important to understand. Instances of those classes, objects, are what you are interacting with most of the time in python."
   ]
  },
  {
   "cell_type": "markdown",
   "id": "b882afde",
   "metadata": {
    "editable": true,
    "slideshow": {
     "slide_type": "slide"
    },
    "tags": []
   },
   "source": [
    "## Basic Logic and Control\n",
    "\n",
    "Here we will sample a few of the most critical [control-flow](https://docs.python.org/3/tutorial/controlflow.html) expressions in python. These are expressions that allow you to perform checks or repeat code in loops."
   ]
  },
  {
   "cell_type": "markdown",
   "id": "4c580180",
   "metadata": {
    "editable": true,
    "slideshow": {
     "slide_type": "slide"
    },
    "tags": []
   },
   "source": [
    "### If Statements\n",
    "\n",
    "And `if` statements only runs the code that follows if the expression to check returns true."
   ]
  },
  {
   "cell_type": "code",
   "execution_count": null,
   "id": "956875d9",
   "metadata": {
    "editable": true,
    "slideshow": {
     "slide_type": "fragment"
    },
    "tags": []
   },
   "outputs": [],
   "source": [
    "sheep = 'baa'\n",
    "\n",
    "# put a true/false statement between \"if\" and the colon\n",
    "if sheep == 'baa':\n",
    "    print('That is a sheep') # use a 4 space indent for every line you want to run only if the statement above was True\n",
    "    print('Nice sheep')"
   ]
  },
  {
   "cell_type": "markdown",
   "id": "87984720",
   "metadata": {
    "editable": true,
    "slideshow": {
     "slide_type": "subslide"
    },
    "tags": []
   },
   "source": [
    "Accompanying the `if` statement are the optional `elif` and `else` statements.\n",
    "\n",
    "The `elif` stands for \"else if\", saying \"if the previous expressions weren't true, check the following. It will not run if any previous expressions in the if/else chain showed to be true.\n",
    "\n",
    "Finally, the `else` statement will run only if none of the above statements were true. It is the default expression if all else failed. Let's expand our `if` statement from above."
   ]
  },
  {
   "cell_type": "code",
   "execution_count": null,
   "id": "5064bae9",
   "metadata": {
    "editable": true,
    "slideshow": {
     "slide_type": "fragment"
    },
    "tags": []
   },
   "outputs": [],
   "source": [
    "sheep = 'boo' # feel free to edit this value to see what prints!\n",
    "\n",
    "if sheep == 'baa':\n",
    "    print('That is a sheep')\n",
    "    print('Nice sheep')\n",
    "elif sheep == 'boo':\n",
    "    print('That is a negative sheep')\n",
    "elif sheep == 'bro':\n",
    "    print('That is a cool sheep')\n",
    "else:\n",
    "    print('That is not a sheep')"
   ]
  },
  {
   "cell_type": "markdown",
   "id": "28c6a5d9",
   "metadata": {
    "editable": true,
    "slideshow": {
     "slide_type": "slide"
    },
    "tags": []
   },
   "source": [
    "### While loops\n",
    "\n",
    "A `while` loop is something that will repeatedly run a code block until an expression returns `False`. It is structured like the `if` statement, where you put a true/false expression between `while` and the colon. Let's count some sheep as an example."
   ]
  },
  {
   "cell_type": "code",
   "execution_count": null,
   "id": "17afeb29",
   "metadata": {
    "editable": true,
    "slideshow": {
     "slide_type": "subslide"
    },
    "tags": []
   },
   "outputs": [],
   "source": [
    "num_sheep = 1\n",
    "\n",
    "while num_sheep <= 5:\n",
    "    print(num_sheep, \"sheep...\")\n",
    "    num_sheep += 1 # increment the number of sheep here"
   ]
  },
  {
   "cell_type": "markdown",
   "id": "21adad62",
   "metadata": {
    "editable": true,
    "slideshow": {
     "slide_type": "fragment"
    },
    "tags": []
   },
   "source": [
    "Note that I had to increment the `num_sheep` inside the loop. Without it, the loop would continue forever. An infinite loop can be a nice feature on some projects, but for beginners, it can be a scary resource hog."
   ]
  },
  {
   "cell_type": "markdown",
   "id": "2d3e63b7",
   "metadata": {
    "editable": true,
    "slideshow": {
     "slide_type": "slide"
    },
    "tags": []
   },
   "source": [
    "### For loops\n",
    "\n",
    "The `for` loop is a good tool to iterate over all elements of a container, such as a `list`, `set` or `dict`. It will loop until it accesses all elements specified. Below we will iterate over the objects we made earlier. The structure is as follows:\n",
    "\n",
    "```\n",
    "for <new_variable_name> in <an_existing_object>:\n",
    "    <stuff to do>\n",
    "```\n",
    "\n",
    "The `new_variable_name` is the name you assign to access each element in the object you're looping over. The variable name is local to the loop, and can't be used outside the loop."
   ]
  },
  {
   "cell_type": "code",
   "execution_count": null,
   "id": "d823243c",
   "metadata": {
    "editable": true,
    "slideshow": {
     "slide_type": "subslide"
    },
    "tags": []
   },
   "outputs": [],
   "source": [
    "for val in my_list:\n",
    "    print(val)\n",
    "\n",
    "for letter in my_set:\n",
    "    print(letter)\n",
    "\n",
    "# dictionary has items where you can get key and value at same time in loop\n",
    "for key, val in dict_about_me.items():\n",
    "    print(\"the key is\", key, \"and the value is\", val)"
   ]
  },
  {
   "cell_type": "markdown",
   "id": "2c709ad6",
   "metadata": {
    "editable": true,
    "slideshow": {
     "slide_type": "slide"
    },
    "tags": []
   },
   "source": [
    "## Functions\n",
    "\n",
    "[Functions](https://docs.python.org/3/tutorial/controlflow.html#defining-functions) are the logical tool to group a set of commands together into one. Like a math function, the goal is to take one or more inputs and provide you with an output.\n",
    "\n",
    "It is common for academics to string together their code as a long list of commands to run sequentially. It is a better habit to have your code into logical groups through functions.\n",
    "* It better communicates motivation.\n",
    "* It helps avoid repeating the same lines throughout your code (see DRY principle).\n",
    "* It helps in testing (we will see this later).\n",
    "\n",
    "We'll define a basic function below. Between `def` and the parentheses, give the function a unique name. The indented block following the colon is what will run."
   ]
  },
  {
   "cell_type": "code",
   "execution_count": null,
   "id": "f8b11397",
   "metadata": {
    "editable": true,
    "slideshow": {
     "slide_type": "subslide"
    },
    "tags": []
   },
   "outputs": [],
   "source": [
    "def hello():\n",
    "    print(\"Hello there\")"
   ]
  },
  {
   "cell_type": "markdown",
   "id": "9940d26a",
   "metadata": {
    "editable": true,
    "slideshow": {
     "slide_type": "subslide"
    },
    "tags": []
   },
   "source": [
    "To run it, call the name, followed by parentheses:"
   ]
  },
  {
   "cell_type": "code",
   "execution_count": null,
   "id": "02c77cc4",
   "metadata": {
    "editable": true,
    "slideshow": {
     "slide_type": "fragment"
    },
    "tags": []
   },
   "outputs": [],
   "source": [
    "hello()"
   ]
  },
  {
   "cell_type": "markdown",
   "id": "595e54d3",
   "metadata": {
    "editable": true,
    "slideshow": {
     "slide_type": "subslide"
    },
    "tags": []
   },
   "source": [
    "You can pass arguments into the function. We give arguments a name within the parentheses in a comma-separated list. After they are named, we can use them in the function block. "
   ]
  },
  {
   "cell_type": "code",
   "execution_count": null,
   "id": "c805c466",
   "metadata": {
    "editable": true,
    "slideshow": {
     "slide_type": "fragment"
    },
    "tags": []
   },
   "outputs": [],
   "source": [
    "def bad_conversation(name1, name2):\n",
    "    print(f\"Hello {name1}, how are you?\")\n",
    "    print(f\"  Good {name2}, and you?\")\n",
    "    print(f\"I've been better...\")\n",
    "    print(f\"  Great! See you later!\")"
   ]
  },
  {
   "cell_type": "markdown",
   "id": "2b9bfe84",
   "metadata": {
    "editable": true,
    "slideshow": {
     "slide_type": "subslide"
    },
    "tags": []
   },
   "source": [
    "To call `bad_conversation`, we must now pass it some values. If you leave an argument out, python will complain."
   ]
  },
  {
   "cell_type": "code",
   "execution_count": null,
   "id": "8a04969f",
   "metadata": {
    "editable": true,
    "slideshow": {
     "slide_type": "fragment"
    },
    "tags": []
   },
   "outputs": [],
   "source": [
    "bad_conversation(name, \"Bill\")"
   ]
  },
  {
   "cell_type": "markdown",
   "id": "9026d6fb",
   "metadata": {
    "editable": true,
    "slideshow": {
     "slide_type": "slide"
    },
    "tags": []
   },
   "source": [
    "# Documenting your code\n",
    "\n",
    "It is important for yourself and others to document the work you are doing in your code. Sometimes the code alone does not express motivation. If we comment our code properly, many built-in tools can generate interactive documentation for you.\n",
    "\n",
    "Confusingly, there are many accepted conventions for documenting your code in Python, so it can be hard to know which one is best. I typically follow the sphinx docstring format, but there are many formats to follow in Python. Pick the one you like best. The most important rule is to be consistent throughout your files.\n",
    "\n",
    "We'll review some of the documentations principles in the links below:\n",
    "* https://peps.python.org/pep-0008/\n",
    "* https://peps.python.org/pep-0257/\n",
    "\n",
    "Here are few docstring example guidelines:\n",
    "* https://sphinx-rtd-tutorial.readthedocs.io/en/latest/docstrings.html\n",
    "* https://google.github.io/styleguide/pyguide.html\n",
    "* https://numpydoc.readthedocs.io/en/latest/format.html"
   ]
  },
  {
   "cell_type": "markdown",
   "id": "ff4e502d",
   "metadata": {
    "editable": true,
    "slideshow": {
     "slide_type": "slide"
    },
    "tags": []
   },
   "source": [
    "# Installing and Using Packages\n",
    "\n",
    "Most of the time, you will be using the code designed by other people to run your analyses. The special algorithms and libraries are stored in [packages](https://docs.python.org/3/tutorial/modules.html#packages).\n",
    "\n",
    "## Pip\n",
    "\n",
    "[Pip](https://docs.python.org/3/tutorial/venv.html#managing-packages-with-pip) is the preferred way to install packages and now comes built-in with a python installation. You can check to see if it is installed on your machine by typing the following.\n",
    "\n",
    "\n",
    "```\n",
    "py -m pip --version\n",
    "py -m pip --help\n",
    "```\n",
    "\n",
    "Listing all packages installed in your environment can be done with its `list` command\n",
    "\n",
    "```\n",
    "py -m pip list\n",
    "```\n",
    "\n",
    "You can even see details on a particular package with the `show` command\n",
    "```\n",
    "py -m pip show package_name\n",
    "```"
   ]
  },
  {
   "cell_type": "markdown",
   "id": "cffd2cb1",
   "metadata": {
    "editable": true,
    "slideshow": {
     "slide_type": "slide"
    },
    "tags": []
   },
   "source": [
    "## Viewing package documentation\n",
    "\n",
    "You don’t need Stack Overflow to navigate your packages. The best source is always the documents.\n",
    "Using the help() function\n",
    "* help(), then type the package name\n",
    "* help(“package_name”)\n",
    "* import first, then ask help\n",
    "* more specific: help(package_name.function) help(package_name.object)\n",
    "\n",
    "Alternatively, you can use a tool installed with python from terminal, called `pydoc3`\n",
    "* type “pydoc3 package_name” into your console"
   ]
  },
  {
   "cell_type": "markdown",
   "id": "84e0bb7f",
   "metadata": {
    "editable": true,
    "slideshow": {
     "slide_type": "slide"
    },
    "tags": []
   },
   "source": [
    "## Using the packages and modules\n",
    "\n",
    "After installing a package with `pip`, you can begin using it in your code. The `import` keyword followed by your package name will allow you to use anything in the package."
   ]
  },
  {
   "cell_type": "code",
   "execution_count": null,
   "id": "08a4c4f3",
   "metadata": {
    "editable": true,
    "slideshow": {
     "slide_type": "fragment"
    },
    "tags": []
   },
   "outputs": [],
   "source": [
    "import matplotlib # importing the matplotlib library"
   ]
  },
  {
   "cell_type": "markdown",
   "id": "3661f5dc",
   "metadata": {
    "editable": true,
    "slideshow": {
     "slide_type": "subslide"
    },
    "tags": []
   },
   "source": [
    "You can change the name of the imported library with the `as` keyword. This is useful for common packages that you are typing often."
   ]
  },
  {
   "cell_type": "code",
   "execution_count": null,
   "id": "bb999e2a",
   "metadata": {
    "editable": true,
    "slideshow": {
     "slide_type": "fragment"
    },
    "tags": []
   },
   "outputs": [],
   "source": [
    "import numpy as np # common shortcut for the numpy library\n",
    "\n",
    "np.pi # you can now call any numpy object with np shortcut"
   ]
  },
  {
   "cell_type": "markdown",
   "id": "efb56d2c",
   "metadata": {
    "editable": true,
    "slideshow": {
     "slide_type": "subslide"
    },
    "tags": []
   },
   "source": [
    "It is good practice to only import what you need from a package. The `import` keyword will load in the entire package in your current python file. If you're only using a few tools from the libary, it is better to use the `from` keyword first."
   ]
  },
  {
   "cell_type": "code",
   "execution_count": null,
   "id": "7c785f9a",
   "metadata": {
    "editable": true,
    "slideshow": {
     "slide_type": "fragment"
    },
    "tags": []
   },
   "outputs": [],
   "source": [
    "# Stats models is huge. Maybe better to import the one thing we're using\n",
    "from statsmodels.formula.api import ols # Oridinary Least Squares regression"
   ]
  },
  {
   "cell_type": "markdown",
   "id": "90111b66",
   "metadata": {
    "editable": true,
    "slideshow": {
     "slide_type": "subslide"
    },
    "tags": []
   },
   "source": [
    "You can import from anywhere in your python file, like even in an `if` block or a function. However, it is best practice to import packages at the top of your file to indicate to someone else what you expect them to have installed on their system in order to run your code."
   ]
  },
  {
   "cell_type": "markdown",
   "id": "edf8eb9c",
   "metadata": {
    "editable": true,
    "slideshow": {
     "slide_type": "slide"
    },
    "tags": []
   },
   "source": [
    "# Data Structure Packages\n",
    "\n",
    "Now that we have you introduced to the basics of python, it is time to introduce you to the most common science packages python has to offer."
   ]
  },
  {
   "cell_type": "markdown",
   "id": "f013ffab",
   "metadata": {
    "editable": true,
    "slideshow": {
     "slide_type": "subslide"
    },
    "tags": []
   },
   "source": [
    "## Numpy\n",
    "\n",
    "[Numpy](https://numpy.org/) is one of the more commonly used packages in just about any project. It gives you access to n-dimensional arrays where all elements are the same time. Additionally, it gives you access to manipulate those arrays.\n",
    "\n",
    "Let's create a basic one-dimensional array.\n",
    "\n",
    "We’ll do a following simple examples\n",
    "* Create a 1-dimensional array\n",
    "  * Look at length: e.g. arr.size\n",
    "  * Look at type\n",
    "* Create a 2-dimensional array\n",
    "  * Find the mean\n",
    "  * Look briefly at all the tools it has"
   ]
  },
  {
   "cell_type": "code",
   "execution_count": null,
   "id": "08a8b42f",
   "metadata": {
    "editable": true,
    "slideshow": {
     "slide_type": "subslide"
    },
    "tags": []
   },
   "outputs": [],
   "source": [
    "arr = np.array([5, 6, 7])\n",
    "print(arr)\n",
    "\n",
    "# every array has one type for all elements, stored in dtype\n",
    "print(arr.dtype)"
   ]
  },
  {
   "cell_type": "markdown",
   "id": "545e2479",
   "metadata": {
    "editable": true,
    "slideshow": {
     "slide_type": "subslide"
    },
    "tags": []
   },
   "source": [
    "Numpy has many tools available, such as calculating mean, finding maximum and minumum and so much more. Here is an example of creating a 2-dimensional array and calculating the mean of each row."
   ]
  },
  {
   "cell_type": "code",
   "execution_count": null,
   "id": "84902f45",
   "metadata": {
    "editable": true,
    "slideshow": {
     "slide_type": "fragment"
    },
    "tags": []
   },
   "outputs": [],
   "source": [
    "arr_2d = np.array([[1,2,3],[4,5,6]])\n",
    "\n",
    "print(f\"Shape of array: {arr_2d.shape}\")\n",
    "print(f\"The mean of each row: {arr_2d.mean(axis=1)}\") # axis = 0 is column, axis = 1 is row"
   ]
  },
  {
   "cell_type": "markdown",
   "id": "670f431e",
   "metadata": {
    "editable": true,
    "slideshow": {
     "slide_type": "slide"
    },
    "tags": []
   },
   "source": [
    "## Pandas\n",
    "\n",
    "What happens when you want to import tables, or objects with heterogeneous data types? This is where [pandas](https://pandas.pydata.org/docs/getting_started/intro_tutorials/01_table_oriented.html) comes in. For those familiar with R’s data.frame, the pandas library will feel very familiar."
   ]
  },
  {
   "cell_type": "markdown",
   "id": "186134bd-f9d7-4da3-ac24-41cdb9abc34a",
   "metadata": {
    "editable": true,
    "slideshow": {
     "slide_type": "subslide"
    },
    "tags": []
   },
   "source": [
    "We'll load a dataset from another package `seaborn` (mentioned later) to create a simple `pandas` data frame. We'll see very quickly a pretty table with a bunch of information."
   ]
  },
  {
   "cell_type": "code",
   "execution_count": null,
   "id": "144f8333-65e1-4c6a-81a1-6dd839c5273f",
   "metadata": {
    "editable": true,
    "slideshow": {
     "slide_type": "subslide"
    },
    "tags": []
   },
   "outputs": [],
   "source": [
    "from seaborn import load_dataset\n",
    "\n",
    "dat = load_dataset('iris')\n",
    "\n",
    "print(f\"Type of dat: {type(dat)}\")\n",
    "dat"
   ]
  },
  {
   "cell_type": "markdown",
   "id": "d17d0d35-c9b5-4f71-ad5f-76d249dcc150",
   "metadata": {
    "editable": true,
    "slideshow": {
     "slide_type": "subslide"
    },
    "tags": []
   },
   "source": [
    "We can create a `pandas.DataFrame` from a python dictionary. Let the key be the column name and the value be a list of the rows."
   ]
  },
  {
   "cell_type": "code",
   "execution_count": null,
   "id": "7abba9bb-cbf9-4524-81e5-c61802c59a42",
   "metadata": {
    "editable": true,
    "slideshow": {
     "slide_type": "fragment"
    },
    "tags": []
   },
   "outputs": [],
   "source": [
    "import pandas as pd\n",
    "\n",
    "contacts_dict = {'first name':['Bob','Linda','Tina','Gene','Louise'],\n",
    "                 'age':[46,44,13,11,9],\n",
    "                 'email':['burgerbob@example.com','lbelcher@example.com', 'ponies.delux@example.com', 'im.with.ken@example.com', 'top.secret@example.com']\n",
    "                }\n",
    "\n",
    "contacts_df = pd.DataFrame(contacts_dict)\n",
    "contacts_df\n"
   ]
  },
  {
   "cell_type": "markdown",
   "id": "6c2fa555",
   "metadata": {
    "editable": true,
    "slideshow": {
     "slide_type": "slide"
    },
    "tags": []
   },
   "source": [
    "## Loading Data from file and saving to file\n",
    "\n",
    "Of course the data structures above can be loaded from a file and saved to file.\n",
    "* `pandas` has a read_csv() function you can use.\n",
    "* `numpy` has the genfromtxt() function, where you can specify a delimeter\n",
    "\n"
   ]
  },
  {
   "cell_type": "markdown",
   "id": "a92f39d8",
   "metadata": {
    "editable": true,
    "slideshow": {
     "slide_type": "slide"
    },
    "tags": []
   },
   "source": [
    "# Data Visualization\n",
    "\n",
    "## matplotlib’s pyplot\n",
    "\n",
    "[Matplotlib](https://matplotlib.org/stable/users/explain/quick_start.html) is the most common plotting library used in python. In particular, its module `pyplot`, can be used in interactive work to display your information quickly. This tool gives you plots much similar to the ones you’d find in MATLAB.\n",
    "\n",
    "The tool is extensive and can do a potentially overwhelming number of things to a plot. As with many python libraries to me, matplotlib can start to feel like its own language. However, to get a single graph up and running is pretty simple. We’ll focus on displaying information with the bare-minimum results.\n",
    "\n",
    "To get a better understanding of plotting more advanced images, I’d check out examples in the scikitlearn library."
   ]
  },
  {
   "cell_type": "markdown",
   "id": "54820188",
   "metadata": {
    "editable": true,
    "slideshow": {
     "slide_type": "slide"
    },
    "tags": []
   },
   "source": [
    "## seaborn\n",
    "\n",
    "The [seaborn library](https://seaborn.pydata.org/tutorial/introduction.html) builds on matplotlib for statistics and integrates closely with the `pandas` library. Some of the plotting that is common in seaborn are:\n",
    "* Relational plots with relplot\n",
    "* Fit linear regression models to scatterplots with lmplot.\n",
    "* Distribution plots with displot.\n",
    "*  Categorical plots with catplot. We can do box and whisker or violin plots"
   ]
  },
  {
   "cell_type": "markdown",
   "id": "f414ef42-fbc8-4665-aca8-c275c33a8b54",
   "metadata": {
    "editable": true,
    "slideshow": {
     "slide_type": "slide"
    },
    "tags": []
   },
   "source": [
    "# Basic stats packages\n",
    "\n",
    "## Scipy\n",
    "\n",
    "[Scipy](https://docs.scipy.org/doc/scipy/tutorial/index.html) is built to extend numpy and provides a wide range of algorithms. This was by far my most used stats packet in the engineering workforce. As scientists, I imagine you’ll get familiar with the following modules:\n",
    "* Linear algrebra – linalg\n",
    "* Spatial algorithms – spatial\n",
    "* Statistics algorithms – stats"
   ]
  },
  {
   "cell_type": "markdown",
   "id": "eda702d5-0d78-48a0-baea-cf6f3e9ffcce",
   "metadata": {
    "editable": true,
    "jp-MarkdownHeadingCollapsed": true,
    "slideshow": {
     "slide_type": "slide"
    },
    "tags": []
   },
   "source": [
    "## Statsmodels\n",
    "\n",
    "The [statmodel](https://www.statsmodels.org/stable/) library is the heavy-weight stats analysis package. If you want summary data quick on a model you're running. This is the one to use. It serves as a bridge between R and python, and uses `pandas` library heavily to run its analyses.\n",
    "\n",
    "Links:\n",
    "* https://www.statsmodels.org/stable/user-guide.html\n",
    "* https://www.statsmodels.org/stable/examples/notebooks/generated/tsa_filters.html"
   ]
  },
  {
   "cell_type": "markdown",
   "id": "18f0ebf8",
   "metadata": {
    "editable": true,
    "slideshow": {
     "slide_type": "slide"
    },
    "tags": []
   },
   "source": [
    "# Machine Learning\n",
    "\n",
    "## Scikit-learn\n",
    "\n",
    "The [scikit-learn](https://scikit-learn.org/stable/user_guide.html) package is another library built on `numpy` and `scipy` and adds supervised and unsupervised learning algorithms to the list of things you can do in python. This library could be an entire class all on its own, but fortunately the documentation very clearly layed out that you can start exploring and expirementing on  your own."
   ]
  },
  {
   "cell_type": "markdown",
   "id": "b8c1ec6f",
   "metadata": {
    "editable": true,
    "slideshow": {
     "slide_type": "slide"
    },
    "tags": []
   },
   "source": [
    "# Testing Your Code\n",
    "\n",
    "Not often taught to scientists is the importance of [testing](https://docs.python.org/3/library/unittest.html) your code. There is a need for your analysis to be reproducible, and testing the packages and methods used can help achieve this much easier.\n",
    "\n",
    "This will give you confidence:\n",
    "* That the code you ran 6 months ago still runs the same way now\n",
    "* That your code you ran on an earlier version of the packages still runs the same way on the newer version\n",
    "* That your code you gave to somebody else will run the same way for them\n",
    "\n",
    "We'll create a small test case using `unittest`. For this package, our tests live inside a `class`. We didn't review any syntax for creating classes, so I advise to follow one of the simple templates laid out in the documentation. Basically, we will define test functions within the `class` (usually with a starting with `test_`), and we will use statements that start `self.assert` to check values."
   ]
  },
  {
   "cell_type": "code",
   "execution_count": null,
   "id": "b81b3a22",
   "metadata": {
    "editable": true,
    "slideshow": {
     "slide_type": "subslide"
    },
    "tags": []
   },
   "outputs": [],
   "source": [
    "from unittest import TestCase\n",
    "\n",
    "# We create a test class as follows\n",
    "class TestCumulativeSum(TestCase):\n",
    "    def test_ones(self):\n",
    "        \"\"\"Pass some ones into the function and see if it increments\"\"\"\n",
    "        ones = [1,1,1,1,1]\n",
    "        res = np.cumsum(ones)\n",
    "        self.assertTrue(np.array_equal(res, [1,2,3,4,5]))\n"
   ]
  },
  {
   "cell_type": "markdown",
   "id": "4405507e",
   "metadata": {
    "editable": true,
    "slideshow": {
     "slide_type": "slide"
    },
    "tags": []
   },
   "source": [
    "# Improving your Python Experience\n",
    "\n",
    "## Ipython\n",
    "\n",
    "The [ipython](https://ipython.readthedocs.io/en/stable/overview.html) terminal is a new interactive interpreter that improves on the base python. The most immediate benefits come from previewing previous lines you’ve used. It also offers a nice drop-down menu of available options when you are typing (just press \\<Tab>!)\n",
    "\n",
    "Other features:\n",
    "* Create scripts for it to run each time you start it up\n",
    "* Built-in commands that make navigating on the machine easier (“magic functions”)\n",
    "* Quick access to a python debugger, so you can see what is going wrong line-by-line"
   ]
  },
  {
   "cell_type": "markdown",
   "id": "4336678d",
   "metadata": {
    "editable": true,
    "slideshow": {
     "slide_type": "subslide"
    },
    "tags": []
   },
   "source": [
    "## Jupyter\n",
    "\n",
    "[Jupyter](https://docs.jupyter.org/en/latest/) combines formatted text and code together on one page. You can use markdown or LaTeX to format your jupyter notebook, and create code blocks right after that you can run in the document. It is great for demonstrations and tutorials. As a matter of fact, I’m using them in the class to teach the material!"
   ]
  },
  {
   "cell_type": "markdown",
   "id": "fcc6b311-866e-4b33-8d9a-f0dc95d47534",
   "metadata": {
    "editable": true,
    "slideshow": {
     "slide_type": "subslide"
    },
    "tags": []
   },
   "source": [
    "## Nose tests\n",
    "\n",
    "We briefly discussed creating test functions for your product code. The [nosetest](https://nose.readthedocs.io/en/latest/man.html) a package and a suite of tools that can improve your testing experience significantly. Nosetests provides an easier interface for testing your code, and it integrates well with many of the main development tools you’ll use."
   ]
  },
  {
   "cell_type": "markdown",
   "id": "873c10fb-99ea-4fda-b993-dd62bca22579",
   "metadata": {
    "editable": true,
    "slideshow": {
     "slide_type": "slide"
    },
    "tags": []
   },
   "source": [
    "# IDEs\n",
    "\n",
    "An integrated development environment, or IDE, are tools that provide a clean graphical interface and allow for more natural code editing and writing. The following are my two recommended for python."
   ]
  },
  {
   "cell_type": "markdown",
   "id": "a849550d-e425-460f-95a1-744ba9513b2c",
   "metadata": {
    "editable": true,
    "slideshow": {
     "slide_type": "subslide"
    },
    "tags": []
   },
   "source": [
    "## Spyder\n",
    "\n",
    "[Spyder](https://www.spyder-ide.org/) is marketed towards scientists, and mimics an environment similar to RStudio. Similar to RStudio, it allows your file one line at a time. It shows all variables you have defined in your environment, too."
   ]
  },
  {
   "cell_type": "markdown",
   "id": "701f8495-c678-4a56-8d91-43a43f14cc4a",
   "metadata": {
    "editable": true,
    "slideshow": {
     "slide_type": "subslide"
    },
    "tags": []
   },
   "source": [
    "## Visual Studio Code\n",
    "\n",
    "Microsoft released a free IDE that can support many languages. It offers thousands of extensions built by the community and Microsoft, and is very feature-rich for Python. This is the one I recommend for this class, as it requires no subscription and comes pre-installed on many university computers"
   ]
  },
  {
   "cell_type": "markdown",
   "id": "23bd053b-2a5d-4d5e-982a-c8b2387b2da4",
   "metadata": {
    "editable": true,
    "slideshow": {
     "slide_type": "subslide"
    },
    "tags": []
   },
   "source": [
    "## PyCharm\n",
    "\n",
    "Jetbrains offers a suite of language-specific IDEs. Their python IDE is [PyCharm](https://www.jetbrains.com/pycharm/). People who use their tools swear by them, but they do cost money. I'd check to see if you have a student license, if you're interested."
   ]
  },
  {
   "cell_type": "markdown",
   "id": "9f51ec04-a486-4faa-b7ee-c1a61f54ba58",
   "metadata": {
    "editable": true,
    "slideshow": {
     "slide_type": "subslide"
    },
    "tags": []
   },
   "source": [
    "## Notepad++\n",
    "\n",
    "[Notepad++](https://notepad-plus-plus.org/) is marketed to the software engineer. It feels lightweight to some, and even barebones to others, but it has a lot of powerful tools underneath the hood, if you are willing to take the time to learn it. I personally don't have much experience with it. "
   ]
  },
  {
   "cell_type": "markdown",
   "id": "03c5ae94",
   "metadata": {
    "editable": true,
    "slideshow": {
     "slide_type": "slide"
    },
    "tags": []
   },
   "source": [
    "# Static Code Analysis Linters\n",
    "\n",
    "Python is a runtime language, meaning it evaluates each line when it is run. This means checks on code are usually done at the moment the code is run, aside from some basic syntax checks.\n",
    "\n",
    "To solve this, many teams have created a series of static code checking tools, called linters. These will evaluate your code as you create it, not as you run, and report warnings and errors that they can find without running the code directly.\n",
    "\n",
    "There are many options, and I’ve found all of them to be chatty and annoying at first in python, but once you configure it to your liking, it will catch mistakes you make way more accurately and quickly than manually running the code each time.\n",
    "\n",
    "Some common code analyzers:\n",
    "* [pylint](https://pylint.readthedocs.io/en/stable/)\n",
    "* [mypy](https://mypy.readthedocs.io/en/stable/getting_started.html)\n",
    "* [black](https://black.readthedocs.io/en/stable/index.html)"
   ]
  },
  {
   "cell_type": "markdown",
   "id": "2e1f32fa",
   "metadata": {
    "editable": true,
    "slideshow": {
     "slide_type": "slide"
    },
    "tags": []
   },
   "source": [
    "# Using virtual environments\n",
    "\n",
    "A python [virtual environment](https://docs.python.org/3/tutorial/venv.html) is a contained mini python world that you run locally. It allows you to save python packages in a directory local to your project, access and manipulate them, and save a state for that specific work.\n",
    "\n",
    "If you have multiple projects on the same computer, sometimes the need to use different versions of packages to run. Or, if you don't have admin privileges on the machine you're running, you might be blocked from installing packages system-wide. These are two cases where you should start up a virtual environment. \n",
    "\n",
    "Probably most importantly, by creating a virtual environment between projects, you can save important environment variables, imports and themes that only apply to that project.\n",
    "\n",
    "To start the virtual environment, run the following from a terminal:\n",
    "\n",
    "```\n",
    "py -m venv lesson\n",
    "```\n",
    "\n",
    "A virtual environment should be created in your directory. Look for a folder named `lesson`. See what's inside. Look in the windows explorer, or type the following to see the contents:\n",
    "\n",
    "```\n",
    "tree lesson\n",
    "```\n",
    "\n",
    "Inside a directory called `Scripts`, there is an `activate` file. In terminal, type the file: `lesson\\Scripts\\activate`. Now, your virtual environment is activated, as indicated with the text `(lesson)` at the front of the terminal entry line."
   ]
  },
  {
   "cell_type": "markdown",
   "id": "ce1cae85-05e7-41fe-8c96-7875b2343c1e",
   "metadata": {
    "editable": true,
    "slideshow": {
     "slide_type": "subslide"
    },
    "tags": []
   },
   "source": [
    "## Cloning your virtual environment\n",
    "\n",
    "Say another person is about to help you with your work on their machine. How can you ensure that the two of you are using all the same packages and same versions?\n",
    "\n",
    "If you've installed all your packages into your virtual environment, this can be quite easy.\n",
    "\n",
    "Activate your environment, like mentioned above (e.g. `lesson\\Scripts\\activate`). Then, run the following command:\n",
    "\n",
    "```\n",
    "pip freeze\n",
    "```\n",
    "\n",
    "This will display all packages installed, like `pip list`, but the ouput is structered in something called [requirements format](https://pip.pypa.io/en/stable/reference/requirements-file-format/). Copy the output to a file, usually `requirements.txt`. Give that file to your partner, and they can install all the same packages as you in their own environment with the following:\n",
    "\n",
    "```\n",
    "pip install -r requirements.txt\n",
    "```"
   ]
  }
 ],
 "metadata": {
  "celltoolbar": "Slideshow",
  "kernelspec": {
   "display_name": "Python 3 (ipykernel)",
   "language": "python",
   "name": "python3"
  },
  "language_info": {
   "codemirror_mode": {
    "name": "ipython",
    "version": 3
   },
   "file_extension": ".py",
   "mimetype": "text/x-python",
   "name": "python",
   "nbconvert_exporter": "python",
   "pygments_lexer": "ipython3",
   "version": "3.12.3"
  }
 },
 "nbformat": 4,
 "nbformat_minor": 5
}
