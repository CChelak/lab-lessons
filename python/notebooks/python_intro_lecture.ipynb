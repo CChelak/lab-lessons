{
 "cells": [
  {
   "cell_type": "markdown",
   "id": "3f6de063-9b47-4ddb-b8df-706ad4841f24",
   "metadata": {
    "slideshow": {
     "slide_type": "slide"
    }
   },
   "source": [
    "# What to gain from the class\n",
    "\n",
    "By the end of the class I want each of you to have:\n",
    "\n",
    "* The briefest of introduction to Python, with resources to find out more\n",
    "* Confidence that Python can help you do your analytics quickly and effectively\n",
    "* The relief that you survived the initial anxiety of learning a new language\n",
    "\n",
    "By the end of the class I want you to have been exposed to the most basic components of python. This will be a first pass, so I don’t expect you to remember most of it by the end of the lesson.\n",
    "\n",
    "I want to convince you that Python is a very quick and easy tool to pick up to get you to do your analytics. Most people’s reaction to python when developing a python script was, “oh, it was really that easy?” I hope you see that many of the tools are already there for you to use."
   ]
  },
  {
   "cell_type": "markdown",
   "id": "baf94373",
   "metadata": {
    "slideshow": {
     "slide_type": "slide"
    }
   },
   "source": [
    "# Getting started\n",
    "\n",
    "Above all else, please check out [the official documentation and tutorial for python](https://docs.python.org/3/tutorial/index.html). This is a well-visited and reviewed piece of documentation, and will give you a clearer and more thorough introduction to the language than I will.\n",
    "\n",
    "A word of caution on Stack Overflow and ChatGPT: they are excellent tools to get quick answers, but if you find yourself on it more than you are programming yourself, it is an indication that you should slow down and review the initial documentation. It will not be a waste of your time to schedule a block to read the documentation comprehensively. You will thank yourself later for learning the fundamentals."
   ]
  },
  {
   "cell_type": "markdown",
   "id": "64af6feb",
   "metadata": {
    "slideshow": {
     "slide_type": "slide"
    }
   },
   "source": [
    "# Interactive Mode – Python’s console\n",
    "\n",
    "The interpreter is a convenient tool to run quick python code, install packages, read help documentation, and more.\n",
    "\n",
    "Here we will\n",
    "* Run basic commands\n",
    "* type help\n",
    "  * type topics\n",
    "  * pick a topic\n",
    "* Seeing previous command\n",
    "* Tab completion\n",
    "* Reverse searching (Ctrl + r)\n",
    "  * Stopping the search: Esc, arrow or Ctrl+j\n",
    "  * clearing Ctrl + g\n",
    "* Undoing your line\n",
    "  * Ctrl + c to \"interrupt\"\n",
    "  * Linux: Ctrl + u\n",
    "  * Windows: Esc + Backspace\n",
    "* View command history\n",
    "\n",
    "A word of caution: don’t over-rely on the console to run code. Get into the habit of writing code to file and saving it. Better yet, version-control your python files using a tool like git."
   ]
  },
  {
   "cell_type": "markdown",
   "id": "f1d83e8f",
   "metadata": {},
   "source": [
    "# Python Basics and Keywords\n",
    "\n",
    "## Defining Variables\n",
    "\n",
    "Defining variables is simple in python, just place an equal size between the variable name on left and its value on the right. You don't have to specify the type of the variable on assignment. Python figures it out under the hood."
   ]
  },
  {
   "cell_type": "code",
   "execution_count": 2,
   "id": "4b174e62",
   "metadata": {},
   "outputs": [],
   "source": [
    "num = 3\n",
    "name = \"Clint\"\n",
    "my_list = [1, 2, 3]"
   ]
  },
  {
   "cell_type": "markdown",
   "id": "cdd77980",
   "metadata": {},
   "source": [
    "## Variable Types\n",
    "\n",
    "If you're curious to find the type of a variable, use the `type()` function. Use the `print()` function to display lines. In the interactive interpreter, you can omit the print statement."
   ]
  },
  {
   "cell_type": "code",
   "execution_count": 3,
   "id": "5f79858e",
   "metadata": {},
   "outputs": [
    {
     "name": "stdout",
     "output_type": "stream",
     "text": [
      "<class 'int'>\n",
      "<class 'str'>\n",
      "<class 'list'>\n"
     ]
    }
   ],
   "source": [
    "print(type(num))\n",
    "print(type(name))\n",
    "print(type(my_list))"
   ]
  },
  {
   "cell_type": "markdown",
   "id": "c1ba822d",
   "metadata": {},
   "source": [
    "## Numbers of Varying Format\n",
    "\n",
    "There are multiple types of numbers that can be stored in python. Further, numbers can be written in many ways:"
   ]
  },
  {
   "cell_type": "code",
   "execution_count": 4,
   "id": "a237b309",
   "metadata": {},
   "outputs": [],
   "source": [
    "my_integer = 3\n",
    "my_float = 3.4 # floating point values, representing fractional numbers\n",
    "imaginary = 1 + 3j # Note, python uses a 'j' instead of an 'i' for imaginary numbers\n",
    "imaginary_2 = complex(1,3)\n",
    "large_num = 1.56E50 # This reads 1.56 times 10 to the 50th power"
   ]
  },
  {
   "cell_type": "markdown",
   "id": "18c155dc",
   "metadata": {},
   "source": [
    "## Operators\n",
    "\n",
    "Python offers a wide variety of operators. We can look at a few for arithmetic and for comparison below."
   ]
  },
  {
   "cell_type": "code",
   "execution_count": 5,
   "id": "32e0894d",
   "metadata": {},
   "outputs": [
    {
     "name": "stdout",
     "output_type": "stream",
     "text": [
      "Basic arithmetic:\n",
      "  6\n",
      "  1\n",
      "  20\n",
      "  2.0\n",
      "  8\n",
      "  3\n",
      "  3\n",
      "Comparison operators:\n",
      "  True\n",
      "  True\n",
      "  True\n",
      "  False\n"
     ]
    }
   ],
   "source": [
    "print(\"Basic arithmetic:\",\n",
    "      3 + 3, # addition\n",
    "      2 - 1, # subtraction\n",
    "      4 * 5, # multiplication\n",
    "      6 / 3, # division\n",
    "      2 ** 3, # exponent\n",
    "      7 // 2, # integer division\n",
    "      91 % 4, # modulo or remainder\n",
    "      sep='\\n  '\n",
    ")\n",
    "\n",
    "print(\"Comparison operators:\",\n",
    "      2 == 2, # test equality\n",
    "      2 != 1, # inequality\n",
    "      5 > 3, # greater than\n",
    "      7 <= 2, # less-than or equal to\n",
    "      sep='\\n  ' # define separator between each print entry\n",
    ")"
   ]
  },
  {
   "cell_type": "markdown",
   "id": "a7f78146",
   "metadata": {},
   "source": [
    "There are shortcut arithmetic operators built into python. Placing the operator before an equal `=` sign will apply the value on the right to the variable to the left. Let's edit the `num` variable that I created earlier."
   ]
  },
  {
   "cell_type": "code",
   "execution_count": 6,
   "id": "873f6d8e",
   "metadata": {},
   "outputs": [
    {
     "name": "stdout",
     "output_type": "stream",
     "text": [
      "num's original value: 3\n",
      "add 3 to num: 6\n",
      "added 3 again: 9\n",
      "raised num to power of 2: 81\n",
      "divided num by 5: 16.2\n"
     ]
    }
   ],
   "source": [
    "# The following assignments are equivalent\n",
    "print(\"num's original value:\", num)\n",
    "\n",
    "num = num + 3 # add 3 to the previous num value and assign it to num\n",
    "print(\"add 3 to num:\", num)\n",
    "\n",
    "num += 3 # add 3 to num\n",
    "print(\"added 3 again:\", num)\n",
    "\n",
    "# You can do this with most arithmetic operators\n",
    "num **= 2\n",
    "print(\"raised num to power of 2:\", num)\n",
    "num /= 5\n",
    "print(\"divided num by 5:\", num)"
   ]
  },
  {
   "cell_type": "markdown",
   "id": "328e9534",
   "metadata": {},
   "source": [
    "## Text and Strings\n",
    "\n",
    "There are quite a few methods for creating strings, or text, in python. You can use either single quotes `'` or double-quotes `\"` to create a string, whichever is more convenient is to you."
   ]
  },
  {
   "cell_type": "code",
   "execution_count": 7,
   "id": "7df7dc38",
   "metadata": {},
   "outputs": [],
   "source": [
    "single_quote = 'Here is some text'\n",
    "double_quote = \"Some more text\""
   ]
  },
  {
   "cell_type": "markdown",
   "id": "ae2cd53a",
   "metadata": {},
   "source": [
    "We can create a multi-line text block with triple single quotes `'''` or triple double quotes `\"\"\"`. Everything following will be part of the string until it finds a matching triple quote."
   ]
  },
  {
   "cell_type": "code",
   "execution_count": 8,
   "id": "703c24d0",
   "metadata": {},
   "outputs": [
    {
     "name": "stdout",
     "output_type": "stream",
     "text": [
      "Here are multiple lines\n",
      "of text\n",
      "and this is completely legitimate\n",
      "\n"
     ]
    }
   ],
   "source": [
    "multi_line = \"\"\"Here are multiple lines\n",
    "of text\n",
    "and this is completely legitimate\n",
    "\"\"\"\n",
    "\n",
    "print(multi_line)"
   ]
  },
  {
   "cell_type": "markdown",
   "id": "117130a7",
   "metadata": {},
   "source": [
    "Lastly, I'm a frequent user of [the formatted string](https://docs.python.org/3/tutorial/inputoutput.html#tut-f-strings). It allows for displaying variables their values inline with the text. A formatted string if created by placing an `f` before the quotes: e.g. `f\"a formatted string\"`. To display a variable in a formatted string, place it in curly braces `{}`.\n",
    "\n",
    "We'll print a few previously-defined variables below with formatted strings.  "
   ]
  },
  {
   "cell_type": "code",
   "execution_count": null,
   "id": "71f4eb35",
   "metadata": {},
   "outputs": [
    {
     "name": "stdout",
     "output_type": "stream",
     "text": [
      "Here is my name: Clint\n",
      "You can display name and value together with =. Like this: my_list=[1, 2, 3]\n",
      "Adding \":.3f\" after variable name says, \"show first 3 decimal numbers: 34.234\n"
     ]
    }
   ],
   "source": [
    "print(f'Here is my name: {name}')\n",
    "\n",
    "print(f'You can display name and value together with \"=\". Like this: {my_list=}')\n",
    "\n",
    "# There are tools to change precision of numbers by adding a colon afterwards.\n",
    "long_float = 34.234324324324 \n",
    "print(f'Adding \":.3f\" after variable name says, \"show first 3 decimal numbers: {long_float:.3f}')"
   ]
  },
  {
   "cell_type": "markdown",
   "id": "7c9c9df8",
   "metadata": {},
   "source": [
    "## Comments\n",
    "\n",
    "Comments are used with the hash: `#`. Everything that follows it will be ignored by the interpreter. Examples of this are seen above in this document.\n",
    "\n",
    "Further, lone triple-quotes (`\"\"\"`) will be ignored by the interpreter when it is found in a file. For this reason, it is used to formally document code."
   ]
  },
  {
   "cell_type": "code",
   "execution_count": 16,
   "id": "1c46cf45",
   "metadata": {},
   "outputs": [],
   "source": [
    "'''A comment: This variable does cool stuff'''\n",
    "cool_stuff = 59393"
   ]
  },
  {
   "cell_type": "markdown",
   "id": "5420ac40",
   "metadata": {},
   "source": [
    "## Lists\n",
    "\n",
    "[Lists](https://docs.python.org/3/tutorial/introduction.html#lists) are python's built-in container to store ordered values. We saw an example above of a list getting created with `my_list`. Let's create another. A list is created with square brackets `[]` with commas separating each entry"
   ]
  },
  {
   "cell_type": "code",
   "execution_count": 24,
   "id": "4e58a7c4",
   "metadata": {},
   "outputs": [
    {
     "name": "stdout",
     "output_type": "stream",
     "text": [
      "mixed_list=[1, 3.4, 'a', [3, 2, 1]]\n",
      "first element: 1\n",
      "index 2 is 3rd element: a\n",
      " last element [3, 2, 1]\n",
      "After editing: mixed_list=[1, 3.4, 'b', [3, 2, 1]]\n",
      "After removal: mixed_list=[1, 3.4, 'b']\n",
      "[1, 3.4, 'b', 1, 2, 3]\n",
      "Number of elements: 6\n",
      "'a' in our list: False\n",
      "'b' in our list: True\n"
     ]
    }
   ],
   "source": [
    "# A single list can store objects of different types\n",
    "# They can even store other lists!\n",
    "mixed_list = [1, 3.4, 'a', [3, 2, 1]]\n",
    "\n",
    "print(f\"{mixed_list=}\")\n",
    "\n",
    "# Accessing an element is done with brackets after name\n",
    "print(f\"first element: {mixed_list[0]}\") # indexing starts at 0\n",
    "print(f\"index 2 is 3rd element: {mixed_list[2]}\")\n",
    "print(f\" last element {mixed_list[-1]}\") # negative index means start at end of list\n",
    "\n",
    "mixed_list[2] = 'b' # you can edit a single entry\n",
    "print(f\"After editing: {mixed_list=}\")\n",
    "\n",
    "# you can remove a single element\n",
    "del mixed_list[3]\n",
    "print(f\"After removal: {mixed_list=}\")\n",
    "\n",
    "# or you can append two lists together\n",
    "mixed_list = mixed_list + my_list\n",
    "print(mixed_list)\n",
    "\n",
    "# to see how many elements are in a list, use len()\n",
    "print(f\"Number of elements: {len(mixed_list)}\")\n",
    "\n",
    "# to see if an element is in a list use in keyword\n",
    "print(\"'a' in our list:\", 'a' in mixed_list)\n",
    "print(\"'b' in our list:\", 'b' in mixed_list)"
   ]
  }
 ],
 "metadata": {
  "kernelspec": {
   "display_name": "Python 3",
   "language": "python",
   "name": "python3"
  },
  "language_info": {
   "codemirror_mode": {
    "name": "ipython",
    "version": 3
   },
   "file_extension": ".py",
   "mimetype": "text/x-python",
   "name": "python",
   "nbconvert_exporter": "python",
   "pygments_lexer": "ipython3",
   "version": "3.12.3"
  }
 },
 "nbformat": 4,
 "nbformat_minor": 5
}
