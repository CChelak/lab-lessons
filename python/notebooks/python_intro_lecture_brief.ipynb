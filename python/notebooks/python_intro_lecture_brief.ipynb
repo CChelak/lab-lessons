{
 "cells": [
  {
   "cell_type": "markdown",
   "id": "3f6de063-9b47-4ddb-b8df-706ad4841f24",
   "metadata": {
    "slideshow": {
     "slide_type": "slide"
    }
   },
   "source": [
    "# What to gain from the class\n",
    "\n",
    "By the end of the class I want each of you to have:\n",
    "\n",
    "* The briefest of introduction to Python, with resources to find out more\n",
    "* Confidence that Python can help you do your analytics quickly and effectively\n",
    "* The relief that you survived the initial anxiety of learning a new language"
   ]
  },
  {
   "cell_type": "markdown",
   "id": "baf94373",
   "metadata": {
    "editable": true,
    "slideshow": {
     "slide_type": "slide"
    },
    "tags": []
   },
   "source": [
    "# Getting started\n",
    "\n",
    "Above all else, please check out [the official documentation and tutorial for python](https://docs.python.org/3/tutorial/index.html). This is a well-visited and reviewed piece of documentation, and will give you a clearer and more thorough introduction to the language than I will.\n",
    "\n",
    "On Stack Overflow and ChatGPT: they are excellent tools to get quick answers, but if you find yourself on it more than you are programming yourself, it is an indication that you should slow down and review the initial documentation. It will not be a waste of your time to schedule a block to read the documentation comprehensively. You will thank yourself later for learning the fundamentals."
   ]
  },
  {
   "cell_type": "markdown",
   "id": "64af6feb",
   "metadata": {
    "editable": true,
    "slideshow": {
     "slide_type": "slide"
    },
    "tags": []
   },
   "source": [
    "# Interactive Mode – Python’s console\n",
    "\n",
    "The [interactive interpreter](https://docs.python.org/3/tutorial/interpreter.html) is a convenient tool to run quick python code, install packages, read help documentation, and more. With it, you can:\n",
    "\n",
    "* type python commands and execute them immediately.\n",
    "* get help documentation\n",
    "* store and search history of commands run\n",
    "* use tab-completion to finish expressions for you\n",
    "\n",
    "A word of caution: don’t over-rely on the console to run code. Get into the habit of writing code to file and saving it. Better yet, version-control your python files using a tool like git."
   ]
  },
  {
   "cell_type": "markdown",
   "id": "f1d83e8f",
   "metadata": {
    "editable": true,
    "slideshow": {
     "slide_type": "slide"
    },
    "tags": []
   },
   "source": [
    "# Python Basics and Keywords\n",
    "\n",
    "Defining variables is simple in python, just place an equal size between the variable name on left and its value on the right. You don't have to specify the type of the variable on assignment. Python figures it out under the hood."
   ]
  },
  {
   "cell_type": "code",
   "execution_count": null,
   "id": "4b174e62",
   "metadata": {
    "editable": true,
    "slideshow": {
     "slide_type": "fragment"
    },
    "tags": []
   },
   "outputs": [],
   "source": [
    "num = 3\n",
    "name = \"Clint\"\n",
    "my_list = [1, 2, 3]\n",
    "\n",
    "# see the underlying type with type() function\n",
    "type(num)"
   ]
  },
  {
   "cell_type": "markdown",
   "id": "c1ba822d",
   "metadata": {
    "editable": true,
    "slideshow": {
     "slide_type": "subslide"
    },
    "tags": []
   },
   "source": [
    "There are multiple types of numbers that can be stored in python. Further, numbers can be written in many ways:"
   ]
  },
  {
   "cell_type": "code",
   "execution_count": null,
   "id": "a237b309",
   "metadata": {
    "editable": true,
    "slideshow": {
     "slide_type": "fragment"
    },
    "tags": []
   },
   "outputs": [],
   "source": [
    "my_integer = 3\n",
    "my_float = 3.4 # floating point values, representing fractional numbers\n",
    "imaginary = 1 + 3j # Note, python uses a 'j' instead of an 'i' for imaginary numbers\n",
    "imaginary_2 = complex(1,3)\n",
    "large_num = 1.56E50 # This reads 1.56 times 10 to the 50th power"
   ]
  },
  {
   "cell_type": "markdown",
   "id": "18c155dc",
   "metadata": {
    "editable": true,
    "slideshow": {
     "slide_type": "slide"
    },
    "tags": []
   },
   "source": [
    "Python offers a wide variety of operators. We can look at a few for arithmetic and for comparison below."
   ]
  },
  {
   "cell_type": "code",
   "execution_count": null,
   "id": "32e0894d",
   "metadata": {
    "editable": true,
    "slideshow": {
     "slide_type": "fragment"
    },
    "tags": []
   },
   "outputs": [],
   "source": [
    "3 + 3 # addition\n",
    "2 - 1 # subtraction\n",
    "4 * 5 # multiplication\n",
    "6 / 3 # division\n",
    "2 ** 3 # exponent\n",
    "7 // 2 # integer division\n",
    "91 % 4 # modulo or remainder\n",
    "\n",
    "2 == 2 # test equality\n",
    "2 != 1 # inequality\n",
    "5 > 3 # greater than\n",
    "7 <= 2 # less-than or equal to"
   ]
  },
  {
   "cell_type": "markdown",
   "id": "a7f78146",
   "metadata": {
    "editable": true,
    "slideshow": {
     "slide_type": "subslide"
    },
    "tags": []
   },
   "source": [
    "You can combine an arithmetic operator with equal to manipulate a variable."
   ]
  },
  {
   "cell_type": "code",
   "execution_count": null,
   "id": "873f6d8e",
   "metadata": {
    "editable": true,
    "slideshow": {
     "slide_type": "fragment"
    },
    "tags": []
   },
   "outputs": [],
   "source": [
    "# The following assignments are equivalent\n",
    "num = num + 3 # add 3 to the value of 'num' and assign the result to num\n",
    "num += 3 # add 3 to num\n",
    "\n",
    "# You can do this with most arithmetic operators\n",
    "num **= 2 # raise to power of 2\n",
    "num /= 5 # divide by 5"
   ]
  },
  {
   "cell_type": "markdown",
   "id": "328e9534",
   "metadata": {
    "editable": true,
    "slideshow": {
     "slide_type": "slide"
    },
    "tags": []
   },
   "source": [
    "You can use either single quotes `'` or double-quotes `\"` to create a string, whichever is more convenient is to you.\n",
    "\n",
    "You can create a multi-line text block with triple single quotes `'''` or triple double quotes `\"\"\"`. Everything following will be part of the string until it finds a matching triple quote."
   ]
  },
  {
   "cell_type": "code",
   "execution_count": null,
   "id": "7df7dc38",
   "metadata": {
    "editable": true,
    "slideshow": {
     "slide_type": "fragment"
    },
    "tags": []
   },
   "outputs": [],
   "source": [
    "single_quote = 'Here is some text'\n",
    "double_quote = \"Some more text\"\n",
    "\n",
    "multi_line = \"\"\"Here are multiple lines\n",
    "of text\n",
    "and this is completely legitimate\n",
    "\"\"\"\n",
    "\n",
    "print(multi_line)"
   ]
  },
  {
   "cell_type": "markdown",
   "id": "117130a7",
   "metadata": {
    "editable": true,
    "slideshow": {
     "slide_type": "subslide"
    },
    "tags": []
   },
   "source": [
    "Lastly, I'm a frequent user of [the formatted string](https://docs.python.org/3/tutorial/inputoutput.html#tut-f-strings). It allows for displaying variables their values inline with the text. A formatted string if created by placing an `f` before the quotes: e.g. `f\"a formatted string\"`. To display a variable in a formatted string, place it in curly braces `{}`."
   ]
  },
  {
   "cell_type": "code",
   "execution_count": null,
   "id": "71f4eb35",
   "metadata": {
    "editable": true,
    "slideshow": {
     "slide_type": "fragment"
    },
    "tags": []
   },
   "outputs": [],
   "source": [
    "print(f'Here is my name: {name}')\n",
    "\n",
    "print(f'You can display name and value together with \"=\". Like this: {my_list=}')\n",
    "\n",
    "# There are tools to change precision of numbers by adding a colon afterwards.\n",
    "long_float = 34.234324324324 \n",
    "print(f'Adding \":.3f\" after variable name says, \"show first 3 decimal numbers: {long_float:.3f}')"
   ]
  },
  {
   "cell_type": "markdown",
   "id": "7c9c9df8",
   "metadata": {
    "editable": true,
    "slideshow": {
     "slide_type": "slide"
    },
    "tags": []
   },
   "source": [
    "Comments are used with the hash: `#`. Everything that follows it will be ignored by the interpreter. Examples of this are seen above in this document.\n",
    "\n",
    "Further, lone triple-quotes (`\"\"\"`) will be ignored by the interpreter when it is found in a file. For this reason, it is used to formally document code."
   ]
  },
  {
   "cell_type": "code",
   "execution_count": null,
   "id": "1c46cf45",
   "metadata": {
    "editable": true,
    "slideshow": {
     "slide_type": "subslide"
    },
    "tags": []
   },
   "outputs": [],
   "source": [
    "'''A comment: This variable does cool stuff'''\n",
    "cool_stuff = 59393"
   ]
  },
  {
   "cell_type": "markdown",
   "id": "5420ac40",
   "metadata": {
    "editable": true,
    "slideshow": {
     "slide_type": "slide"
    },
    "tags": []
   },
   "source": [
    "## Lists\n",
    "\n",
    "[Lists](https://docs.python.org/3/tutorial/introduction.html#lists) are python's built-in container to store ordered values. We saw an example above of a list getting created with `my_list`. Let's create another. A list is created with square brackets `[]` with commas separating each entry."
   ]
  },
  {
   "cell_type": "code",
   "execution_count": null,
   "id": "4e58a7c4",
   "metadata": {
    "editable": true,
    "slideshow": {
     "slide_type": "subslide"
    },
    "tags": []
   },
   "outputs": [],
   "source": [
    "# A single list can store objects of different types\n",
    "# They can even store other lists!\n",
    "mixed_list = [1, 3.4, 'a', [3, 2, 1]]\n",
    "\n",
    "# Accessing an element is done with brackets after name\n",
    "mixed_list[0] # indexing starts at 0\n",
    "mixed_list[2] # index 2 (3rd element)\n",
    "mixed_list[-1] # last element, negative index means start at end of list\n",
    "\n",
    "mixed_list[2] = 'b' # you can edit a single entry\n",
    "\n",
    "# you can remove a single element\n",
    "del mixed_list[3]\n",
    "\n",
    "# or you can append two lists together\n",
    "mixed_list = mixed_list + my_list\n",
    "\n",
    "# to see how many elements are in a list, use len()\n",
    "len(mixed_list)\n",
    "\n",
    "# to see if an element is in a list use in keyword\n",
    "'a' in mixed_list"
   ]
  },
  {
   "cell_type": "markdown",
   "id": "a605218b",
   "metadata": {
    "editable": true,
    "slideshow": {
     "slide_type": "slide"
    },
    "tags": []
   },
   "source": [
    "## Sets\n",
    "\n",
    "A [set](https://docs.python.org/3/tutorial/datastructures.html#sets) is an unordered collection of data where there are no duplicate elements. It is created with curly braces `{}` and the elements are comma separated. "
   ]
  },
  {
   "cell_type": "code",
   "execution_count": null,
   "id": "b92cefe1",
   "metadata": {
    "editable": true,
    "slideshow": {
     "slide_type": "subslide"
    },
    "tags": []
   },
   "outputs": [],
   "source": [
    "my_set = {'a', 'b', 'c', 'a'} # note two 'a' values\n",
    "print(my_set)\n",
    "\n",
    "# like lists, to find if an element is in a set, use 'in' keyword\n",
    "'c' in my_set\n",
    "\n",
    "# remove an element with remove() or discard()\n",
    "my_set.remove('c') # remove throws error if it can't find element\n",
    "my_set.discard('d') # will not complain if it can't find it\n",
    "\n",
    "# you can add elements with f\n",
    "my_set.add('f')\n",
    "print(\"Post-modification:\", my_set)"
   ]
  },
  {
   "cell_type": "markdown",
   "id": "dd2803ca",
   "metadata": {
    "editable": true,
    "slideshow": {
     "slide_type": "slide"
    },
    "tags": []
   },
   "source": [
    "## Dictionary\n",
    "\n",
    "A [dictionary](https://docs.python.org/3/tutorial/datastructures.html#dictionaries) is an associative object, matching a unique key to any value. This is one of pythons more famous and heavily-used container objects.\n",
    "\n",
    "Like a set, you create it with curly braces `{}`, but in each comma-separated element you provide it a key and value, separated by a colon `:`.  "
   ]
  },
  {
   "cell_type": "code",
   "execution_count": null,
   "id": "014ddc06",
   "metadata": {
    "editable": true,
    "slideshow": {
     "slide_type": "subslide"
    },
    "tags": []
   },
   "outputs": [],
   "source": [
    "dict_about_me = {'my_brain':'thinking', 'num_arms':2, 'my_hands':'typing'}\n",
    "\n",
    "# add new elements with square brackets and =\n",
    "dict_about_me['my_feet'] = 'dancing'\n",
    "\n",
    "# access with square brackets, too\n",
    "print(\"What is my brain doing?\", dict_about_me['my_brain'])\n",
    "\n",
    "# list keys and values with keys() and values() functions\n",
    "print(\"Keys: \", dict_about_me.keys())\n",
    "print(\"Values: \", dict_about_me.values())"
   ]
  },
  {
   "cell_type": "markdown",
   "id": "e8884773",
   "metadata": {
    "editable": true,
    "slideshow": {
     "slide_type": "slide"
    },
    "tags": []
   },
   "source": [
    "## Indentation\n",
    "\n",
    "Spaces and indents have special meaning in python. A set number of spaces before a line means a continuation of logic. You can't arbitrarily indent lines without python getting mad.\n",
    "\n",
    "The convention is to add 4 spaces to indent, but you can set the number of spaces to just about anything. As long as you are consistent in the file, python can figure it out."
   ]
  },
  {
   "cell_type": "code",
   "execution_count": null,
   "id": "666cff4f",
   "metadata": {
    "editable": true,
    "slideshow": {
     "slide_type": "subslide"
    },
    "tags": []
   },
   "outputs": [],
   "source": [
    "# If you uncomment the line below, python will complain\n",
    "          my_var = 3"
   ]
  },
  {
   "cell_type": "markdown",
   "id": "35d31445",
   "metadata": {
    "editable": true,
    "slideshow": {
     "slide_type": "slide"
    },
    "tags": []
   },
   "source": [
    "## Classes and Objects\n",
    "\n",
    "[Classes](https://docs.python.org/3/tutorial/classes.html) are not something that I will review in the lesson, of the scope of the subject is too vast for this short lesson. However they are important to understand. Instances of those classes, objects, are what you are interacting with most of the time in python."
   ]
  },
  {
   "cell_type": "markdown",
   "id": "b882afde",
   "metadata": {
    "editable": true,
    "slideshow": {
     "slide_type": "slide"
    },
    "tags": []
   },
   "source": [
    "## Basic Logic and Control\n",
    "\n",
    "Here we will sample a few of the most critical [control-flow](https://docs.python.org/3/tutorial/controlflow.html) expressions in python. These are expressions that allow you to perform checks or repeat code in loops."
   ]
  },
  {
   "cell_type": "markdown",
   "id": "4c580180",
   "metadata": {
    "editable": true,
    "slideshow": {
     "slide_type": "subslide"
    },
    "tags": []
   },
   "source": [
    "### If Statements\n",
    "\n",
    "And `if` statements only runs the code that follows if the expression to check returns true. Accompanying the `if` statement are the optional `elif` and `else` statements.\n",
    "\n",
    "The `elif` stands for \"else if\", saying \"if the previous expressions weren't true, check the following.\" It will not run if any previous expressions in the if/else chain showed to be true.\n",
    "\n",
    "Finally, the `else` statement will run only if none of the above statements were true. It is the default expression if all else failed. Let's expand our `if` statement from above."
   ]
  },
  {
   "cell_type": "code",
   "execution_count": null,
   "id": "5064bae9",
   "metadata": {
    "editable": true,
    "slideshow": {
     "slide_type": "fragment"
    },
    "tags": []
   },
   "outputs": [],
   "source": [
    "sheep = 'baa' # feel free to edit this value to see what prints!\n",
    "\n",
    "if sheep == 'baa':\n",
    "    print('That is a sheep')\n",
    "    print('Nice sheep')\n",
    "elif sheep == 'boo':\n",
    "    print('That is a negative sheep')\n",
    "elif sheep == 'bro':\n",
    "    print('That is a cool sheep')\n",
    "else:\n",
    "    print('That is not a sheep')"
   ]
  },
  {
   "cell_type": "markdown",
   "id": "28c6a5d9",
   "metadata": {
    "editable": true,
    "slideshow": {
     "slide_type": "subslide"
    },
    "tags": []
   },
   "source": [
    "### While loops\n",
    "\n",
    "A `while` loop is something that will repeatedly run a code block until an expression returns `False`. It is structured like the `if` statement, where you put a true/false expression between `while` and the colon. Let's count some sheep as an example."
   ]
  },
  {
   "cell_type": "code",
   "execution_count": null,
   "id": "17afeb29",
   "metadata": {
    "editable": true,
    "slideshow": {
     "slide_type": "fragment"
    },
    "tags": []
   },
   "outputs": [],
   "source": [
    "num_sheep = 1\n",
    "\n",
    "while num_sheep <= 3:\n",
    "    print(num_sheep, \"sheep...\")\n",
    "    num_sheep += 1 # increment the number of sheep here"
   ]
  },
  {
   "cell_type": "markdown",
   "id": "21adad62",
   "metadata": {
    "editable": true,
    "slideshow": {
     "slide_type": "fragment"
    },
    "tags": []
   },
   "source": [
    "Note that I had to increment the `num_sheep` inside the loop. Without it, the loop would continue forever. An infinite loop can be a nice feature on some projects, but for beginners, it can be a scary resource hog."
   ]
  },
  {
   "cell_type": "markdown",
   "id": "2d3e63b7",
   "metadata": {
    "editable": true,
    "slideshow": {
     "slide_type": "subslide"
    },
    "tags": []
   },
   "source": [
    "### For loops\n",
    "\n",
    "The `for` loop is a good tool to iterate over all elements of a container, such as a `list`, `set` or `dict`. It will loop until it accesses all elements specified. Below we will iterate over the objects we made earlier. The structure is as follows:\n",
    "\n",
    "```\n",
    "for <new_variable_name> in <an_existing_object>:\n",
    "    <stuff to do>\n",
    "```\n",
    "\n",
    "The `new_variable_name` is the name you assign to access each element in the object you're looping over. The variable name is local to the loop, and can't be used outside the loop."
   ]
  },
  {
   "cell_type": "code",
   "execution_count": null,
   "id": "d823243c",
   "metadata": {
    "editable": true,
    "slideshow": {
     "slide_type": "fragment"
    },
    "tags": []
   },
   "outputs": [],
   "source": [
    "sum = 0\n",
    "for val in my_list:\n",
    "    sum += val\n",
    "print(\"Sum of my_list: \", sum)\n",
    "\n",
    "letters = ''\n",
    "for letter in my_set:\n",
    "    letters += letter\n",
    "print(\"Letters in set:\", letters)\n",
    "\n",
    "# dictionary has items where you can get key and value at same time in loop\n",
    "print(\"All about me:\")\n",
    "for key, val in dict_about_me.items():\n",
    "    print(\" \", key, \"is\", val)"
   ]
  },
  {
   "cell_type": "markdown",
   "id": "2c709ad6",
   "metadata": {
    "editable": true,
    "slideshow": {
     "slide_type": "slide"
    },
    "tags": []
   },
   "source": [
    "## Functions\n",
    "\n",
    "[Functions](https://docs.python.org/3/tutorial/controlflow.html#defining-functions) are the logical tool to group a set of commands together into one. Like a math function, the goal is to take one or more inputs and provide you with an output.\n",
    "\n",
    "It is common for academics to string together their code as a long list of commands to run sequentially. It is a better habit to have your code into logical groups through functions.\n",
    "* It better communicates motivation.\n",
    "* It helps avoid repeating the same lines throughout your code (see DRY principle).\n",
    "* It helps in testing (we will see this later).\n",
    "\n",
    "We'll define a basic function below. Between `def` and the parentheses, give the function a unique name. The indented block following the colon is what will run."
   ]
  },
  {
   "cell_type": "code",
   "execution_count": null,
   "id": "f8b11397",
   "metadata": {
    "editable": true,
    "slideshow": {
     "slide_type": "subslide"
    },
    "tags": []
   },
   "outputs": [],
   "source": [
    "def hello():\n",
    "    print(\"Hello there\")\n",
    "\n",
    "# to run it, call it by name, followed by parentheses\n",
    "hello()"
   ]
  },
  {
   "cell_type": "markdown",
   "id": "595e54d3",
   "metadata": {
    "editable": true,
    "slideshow": {
     "slide_type": "fragment"
    },
    "tags": []
   },
   "source": [
    "You can pass arguments into the function. We give arguments a name within the parentheses in a comma-separated list. After they are named, we can use them in the function block. "
   ]
  },
  {
   "cell_type": "code",
   "execution_count": null,
   "id": "c805c466",
   "metadata": {
    "editable": true,
    "slideshow": {
     "slide_type": "fragment"
    },
    "tags": []
   },
   "outputs": [],
   "source": [
    "def bad_conversation(name1, name2):\n",
    "    print(f\"Hello {name1}, how are you?\")\n",
    "    print(f\"  Good {name2}, and you?\")\n",
    "    print(f\"I've been better...\")\n",
    "    print(f\"  Great! See you later!\")\n",
    "\n",
    "# we need to pass two values when calling, now\n",
    "bad_conversation(name, \"Bill\")"
   ]
  },
  {
   "cell_type": "markdown",
   "id": "9026d6fb",
   "metadata": {
    "editable": true,
    "slideshow": {
     "slide_type": "slide"
    },
    "tags": []
   },
   "source": [
    "# Documenting your code\n",
    "\n",
    "It is important for yourself and others to document the work you are doing in your code. Sometimes the code alone does not express motivation. If we comment our code properly, many built-in tools can generate interactive documentation for you.\n",
    "\n",
    "Confusingly, there are many accepted conventions for documenting your code in Python, so it can be hard to know which one is best. I typically follow the sphinx docstring format, but there are many formats to follow in Python. Pick the one you like best. The most important rule is to be consistent throughout your files.\n",
    "\n",
    "We'll review some of the documentations principles in the links below:\n",
    "\n",
    "* https://peps.python.org/pep-0008/\n",
    "* https://peps.python.org/pep-0257/\n",
    "\n",
    "Here are few docstring example guidelines:\n",
    "\n",
    "* https://sphinx-rtd-tutorial.readthedocs.io/en/latest/docstrings.html\n",
    "* https://google.github.io/styleguide/pyguide.html\n",
    "* https://numpydoc.readthedocs.io/en/latest/format.html"
   ]
  },
  {
   "cell_type": "markdown",
   "id": "ff4e502d",
   "metadata": {
    "editable": true,
    "slideshow": {
     "slide_type": "slide"
    },
    "tags": []
   },
   "source": [
    "# Installing and Using Packages\n",
    "\n",
    "Most of the time, you will be using the code designed by other people to run your analyses. The special algorithms and libraries are stored in [packages](https://docs.python.org/3/tutorial/modules.html#packages).\n",
    "\n",
    "## Pip\n",
    "\n",
    "[Pip](https://docs.python.org/3/tutorial/venv.html#managing-packages-with-pip) is the preferred way to install packages and now comes built-in with a python installation. In Windows, if you have `py` as a shortcut for python, you can check to see if it is installed on your machine by typing the following:\n",
    "\n",
    "\n",
    "```\n",
    "py -m pip --version\n",
    "```\n",
    "\n",
    "Listing all packages installed in your environment can be done with its `list` command\n",
    "\n",
    "```\n",
    "py -m pip list\n",
    "```\n",
    "\n",
    "You can even see details on a particular package with the `show` command\n",
    "```\n",
    "py -m pip show package_name\n",
    "```"
   ]
  },
  {
   "cell_type": "markdown",
   "id": "cffd2cb1",
   "metadata": {
    "editable": true,
    "slideshow": {
     "slide_type": "slide"
    },
    "tags": []
   },
   "source": [
    "## Viewing package documentation\n",
    "\n",
    "You don’t need Stack Overflow to navigate your packages. The best source is always the documents.\n",
    "Using the help() function:\n",
    "\n",
    "* help(), then type the package name\n",
    "* help(“package_name”)\n",
    "* import first, then ask help\n",
    "* more specific: help(package_name.function) help(package_name.object)\n",
    "\n",
    "Alternatively, you can use a tool installed with python from terminal, called `pydoc3`:\n",
    "\n",
    "* type “pydoc3 package_name” into your console"
   ]
  },
  {
   "cell_type": "markdown",
   "id": "84e0bb7f",
   "metadata": {
    "editable": true,
    "slideshow": {
     "slide_type": "slide"
    },
    "tags": []
   },
   "source": [
    "## Using the packages and modules\n",
    "\n",
    "After installing a package with `pip`, you can begin using it in your code. The `import` keyword followed by your package name will allow you to use anything in the package."
   ]
  },
  {
   "cell_type": "code",
   "execution_count": null,
   "id": "08a4c4f3",
   "metadata": {
    "editable": true,
    "slideshow": {
     "slide_type": "fragment"
    },
    "tags": []
   },
   "outputs": [],
   "source": [
    "import matplotlib # importing the matplotlib library"
   ]
  },
  {
   "cell_type": "markdown",
   "id": "3661f5dc",
   "metadata": {
    "editable": true,
    "slideshow": {
     "slide_type": "subslide"
    },
    "tags": []
   },
   "source": [
    "You can change the name of the imported library with the `as` keyword. This is useful for common packages that you are typing often."
   ]
  },
  {
   "cell_type": "code",
   "execution_count": null,
   "id": "bb999e2a",
   "metadata": {
    "editable": true,
    "slideshow": {
     "slide_type": "fragment"
    },
    "tags": []
   },
   "outputs": [],
   "source": [
    "import numpy as np # common shortcut for the numpy library\n",
    "\n",
    "np.pi # you can now call any numpy object with np shortcut"
   ]
  },
  {
   "cell_type": "markdown",
   "id": "efb56d2c",
   "metadata": {
    "editable": true,
    "slideshow": {
     "slide_type": "subslide"
    },
    "tags": []
   },
   "source": [
    "It is good practice to only import what you need from a package. The `import` keyword will load in the entire package in your current python file. If you're only using a few tools from the libary, it is better to use the `from` keyword first."
   ]
  },
  {
   "cell_type": "code",
   "execution_count": null,
   "id": "7c785f9a",
   "metadata": {
    "editable": true,
    "slideshow": {
     "slide_type": "fragment"
    },
    "tags": []
   },
   "outputs": [],
   "source": [
    "# Stats models is huge. Maybe better to import the one thing we're using\n",
    "from statsmodels.formula.api import ols # Oridinary Least Squares regression"
   ]
  },
  {
   "cell_type": "markdown",
   "id": "90111b66",
   "metadata": {
    "editable": true,
    "slideshow": {
     "slide_type": "subslide"
    },
    "tags": []
   },
   "source": [
    "You can import from anywhere in your python file, like even in an `if` block or a function. However, it is best practice to import packages at the top of your file to indicate to someone else what you expect them to have installed on their system in order to run your code."
   ]
  },
  {
   "cell_type": "markdown",
   "id": "edf8eb9c",
   "metadata": {
    "editable": true,
    "slideshow": {
     "slide_type": "slide"
    },
    "tags": []
   },
   "source": [
    "# Science Packages\n",
    "\n",
    "Now that we have you introduced to the basics of python, it is time to introduce you to the most common science packages python has to offer."
   ]
  },
  {
   "cell_type": "markdown",
   "id": "f013ffab",
   "metadata": {
    "editable": true,
    "slideshow": {
     "slide_type": "subslide"
    },
    "tags": []
   },
   "source": [
    "## Numpy\n",
    "\n",
    "[Numpy](https://numpy.org/) is one of the more commonly used packages in just about any project. It gives you access to n-dimensional arrays where all elements are the same time. Additionally, it gives you access to manipulate those arrays."
   ]
  },
  {
   "cell_type": "code",
   "execution_count": null,
   "id": "08a8b42f",
   "metadata": {
    "editable": true,
    "slideshow": {
     "slide_type": "fragment"
    },
    "tags": []
   },
   "outputs": [],
   "source": [
    "arr = np.array([5, 6, 7])\n",
    "print(arr)\n",
    "\n",
    "# every array has one type for all elements, stored in dtype\n",
    "print(arr.dtype)\n",
    "\n",
    "arr_2d = np.array([[1,2,3],[4,5,6]])\n",
    "\n",
    "print(f\"Shape of 2D array: {arr_2d.shape}\")\n",
    "print(f\"The mean of each row: {arr_2d.mean(axis=1)}\") # axis = 0 is column, axis = 1 is row"
   ]
  },
  {
   "cell_type": "markdown",
   "id": "670f431e",
   "metadata": {
    "editable": true,
    "slideshow": {
     "slide_type": "subslide"
    },
    "tags": []
   },
   "source": [
    "## Pandas\n",
    "\n",
    "What happens when you want to import tables, or objects with heterogeneous data types? This is where [pandas](https://pandas.pydata.org/docs/getting_started/intro_tutorials/01_table_oriented.html) comes in. For those familiar with R’s data.frame, the pandas library will feel very familiar.\n",
    "\n",
    "We'll load a dataset from another package `seaborn` (mentioned later) to create a simple `pandas` data frame. We'll see very quickly a pretty table with a bunch of information."
   ]
  },
  {
   "cell_type": "code",
   "execution_count": null,
   "id": "45632a72",
   "metadata": {
    "editable": true,
    "slideshow": {
     "slide_type": "subslide"
    },
    "tags": []
   },
   "outputs": [],
   "source": [
    "from seaborn import load_dataset\n",
    "\n",
    "dat = load_dataset('iris')\n",
    "\n",
    "print(f\"Type of dat: {type(dat)}\")\n",
    "dat"
   ]
  },
  {
   "cell_type": "markdown",
   "id": "49e62505-dfbd-45d8-a550-a8fb57891667",
   "metadata": {
    "editable": true,
    "slideshow": {
     "slide_type": "slide"
    },
    "tags": []
   },
   "source": [
    "## Loading Data from file and saving to file\n",
    "\n",
    "Of course the data structures above can be loaded from a file and saved to file.\n",
    "\n",
    "* `pandas` has a read_csv() function you can use.\n",
    "* `numpy` has the genfromtxt() function, where you can specify a delimeter"
   ]
  },
  {
   "cell_type": "markdown",
   "id": "7a36c18b-3357-4acb-a6ff-42e3446bad8d",
   "metadata": {
    "editable": true,
    "slideshow": {
     "slide_type": "slide"
    },
    "tags": []
   },
   "source": [
    "# Data Visualization\n",
    "\n",
    "## matplotlib’s pyplot\n",
    "\n",
    "[Matplotlib](https://matplotlib.org/stable/users/explain/quick_start.html) is the most common plotting library used in python. In particular, its module `pyplot`, can be used in interactive work to display your information quickly. This tool gives you plots much similar to the ones you’d find in MATLAB.\n",
    "\n",
    "The tool is extensive and can do a potentially overwhelming number of things to a plot. As with many python libraries to me, matplotlib can start to feel like its own language. However, to get a single graph up and running is pretty simple. We’ll focus on displaying information with the bare-minimum results.\n",
    "\n",
    "To get a better understanding of plotting more advanced images, I’d check out examples in the scikitlearn library."
   ]
  },
  {
   "cell_type": "markdown",
   "id": "a43b2a16-84b0-49b5-865f-942fba5aacb0",
   "metadata": {
    "editable": true,
    "slideshow": {
     "slide_type": "subslide"
    },
    "tags": []
   },
   "source": [
    "## seaborn\n",
    "\n",
    "The [seaborn library](https://seaborn.pydata.org/tutorial/introduction.html) builds on matplotlib for statistics and integrates closely with the `pandas` library. Some of the plotting that is common in seaborn are:\n",
    "\n",
    "* Relational plots with relplot\n",
    "* Fit linear regression models to scatterplots with lmplot.\n",
    "* Distribution plots with displot.\n",
    "*  Categorical plots with catplot. We can do box and whisker or violin plots"
   ]
  },
  {
   "cell_type": "markdown",
   "id": "958c1b68-c640-4507-8a2f-390c58da67fd",
   "metadata": {
    "editable": true,
    "slideshow": {
     "slide_type": "slide"
    },
    "tags": []
   },
   "source": [
    "# Basic stats packages\n",
    "\n",
    "## Scipy\n",
    "\n",
    "[Scipy](https://docs.scipy.org/doc/scipy/tutorial/index.html) is built to extend numpy and provides a wide range of algorithms. This was by far my most used stats packet in the engineering workforce. As scientists, I imagine you’ll get familiar with the following modules:\n",
    "\n",
    "* Linear algrebra – linalg\n",
    "* Spatial algorithms – spatial\n",
    "* Statistics algorithms – stats"
   ]
  },
  {
   "cell_type": "markdown",
   "id": "5269adb2-c239-41cc-ab0f-c8e954e3f54e",
   "metadata": {
    "editable": true,
    "jp-MarkdownHeadingCollapsed": true,
    "slideshow": {
     "slide_type": "subslide"
    },
    "tags": []
   },
   "source": [
    "## Statsmodels\n",
    "\n",
    "The [statmodel](https://www.statsmodels.org/stable/) library is the heavy-weight stats analysis package. If you want summary data quick on a model you're running. This is the one to use. It serves as a bridge between R and python, and uses `pandas` library heavily to run its analyses.\n",
    "\n",
    "Links:\n",
    "\n",
    "* https://www.statsmodels.org/stable/user-guide.html\n",
    "* https://www.statsmodels.org/stable/examples/notebooks/generated/tsa_filters.html"
   ]
  },
  {
   "cell_type": "markdown",
   "id": "e810c26e-e2ee-447c-8bd4-d0aa60c1e560",
   "metadata": {
    "editable": true,
    "jp-MarkdownHeadingCollapsed": true,
    "slideshow": {
     "slide_type": "slide"
    },
    "tags": []
   },
   "source": [
    "# Machine Learning\n",
    "\n",
    "## Scikit-learn\n",
    "\n",
    "The [scikit-learn](https://scikit-learn.org/stable/user_guide.html) package is another library built on `numpy` and `scipy` and adds supervised and unsupervised learning algorithms to the list of things you can do in python. This library could be an entire class all on its own, but fortunately the documentation very clearly layed out that you can start exploring and expirementing on  your own."
   ]
  },
  {
   "cell_type": "markdown",
   "id": "be99dd38",
   "metadata": {
    "editable": true,
    "slideshow": {
     "slide_type": "slide"
    },
    "tags": []
   },
   "source": [
    "# Testing Your Code\n",
    "\n",
    "Not often taught to scientists is the importance of [testing](https://docs.python.org/3/library/unittest.html) your code. There is a need for your analysis to be reproducible, and testing the packages and methods used can help achieve this much easier.\n",
    "\n",
    "This will give you confidence:\n",
    "\n",
    "* That the code you ran 6 months ago still runs the same way now\n",
    "* That your code you ran on an earlier version of the packages still runs the same way on the newer version\n",
    "* That your code you gave to somebody else will run the same way for them\n",
    "\n",
    "Below is a brief example of testing a function"
   ]
  },
  {
   "cell_type": "code",
   "execution_count": null,
   "id": "876cf823",
   "metadata": {
    "editable": true,
    "slideshow": {
     "slide_type": "subslide"
    },
    "tags": []
   },
   "outputs": [],
   "source": [
    "from unittest import TestCase\n",
    "\n",
    "# We create a test class as follows\n",
    "class TestCumulativeSum(TestCase):\n",
    "    def test_ones(self):\n",
    "        \"\"\"Pass some ones into the function and see if returns an incrementing array\"\"\"\n",
    "        ones = [1,1,1,1,1]\n",
    "        res = np.cumulative_sum(ones)\n",
    "        self.assertEqual(res, [1,2,3,4,5])"
   ]
  },
  {
   "cell_type": "markdown",
   "id": "97eb3d02-e061-445d-9fc0-a93e6914e029",
   "metadata": {
    "editable": true,
    "slideshow": {
     "slide_type": "slide"
    },
    "tags": []
   },
   "source": [
    "# Improving your Python Experience\n",
    "\n",
    "## Ipython\n",
    "\n",
    "The [ipython](https://ipython.readthedocs.io/en/stable/overview.html) terminal is a new interactive interpreter that improves on the base python. The most immediate benefits come from previewing previous lines you’ve used. It also offers a nice drop-down menu of available options when you are typing (just press \\<Tab>!)\n",
    "\n",
    "Other features:\n",
    "\n",
    "* Create scripts for it to run each time you start it up\n",
    "* Built-in commands that make navigating on the machine easier (“magic functions”)\n",
    "* Quick access to a python debugger, so you can see what is going wrong line-by-line"
   ]
  },
  {
   "cell_type": "markdown",
   "id": "f3cb164e-4c8e-46af-ae11-47abfc4162b8",
   "metadata": {
    "editable": true,
    "slideshow": {
     "slide_type": "subslide"
    },
    "tags": []
   },
   "source": [
    "## Jupyter\n",
    "\n",
    "[Jupyter](https://docs.jupyter.org/en/latest/) combines formatted text and code together on one page. You can use markdown or LaTeX to format your jupyter notebook, and create code blocks right after that you can run in the document. It is great for demonstrations and tutorials. As a matter of fact, I’m using them in the class to teach the material!"
   ]
  },
  {
   "cell_type": "markdown",
   "id": "20282d75",
   "metadata": {
    "editable": true,
    "slideshow": {
     "slide_type": "slide"
    },
    "tags": []
   },
   "source": [
    "## IDEs\n",
    "\n",
    "An integrated development environment, or IDE, are tools that provide a clean graphical interface and allow for more natural code editing and writing. The following are my two recommended for python.\n",
    "\n",
    "### Visual Studio Code\n",
    "\n",
    "Microsoft released a free IDE that can support many languages. It offers thousands of extensions built by the community and Microsoft, and is very feature-rich for Python. This is the one I recommend for this class, as it requires no subscription and comes pre-installed on many university computers\n",
    "\n",
    "### PyCharm\n",
    "\n",
    "Jetbrains offers a suite of language-specific IDEs. Their python IDE is [PyCharm](https://www.jetbrains.com/pycharm/). People who use their tools swear by them, but they do cost money. I'd check to see if you have a student license, if you're interested."
   ]
  },
  {
   "cell_type": "markdown",
   "id": "bd30c35b-3dc4-4b4e-9d13-a0c99581e73f",
   "metadata": {
    "editable": true,
    "slideshow": {
     "slide_type": "subslide"
    },
    "tags": []
   },
   "source": [
    "## Nose tests\n",
    "\n",
    "We briefly discussed creating test functions for your product code. The [nosetest](https://nose.readthedocs.io/en/latest/man.html) a package and a suite of tools that can improve your testing experience significantly. Nosetests provides an easier interface for testing your code, and it integrates well with many of the main development tools you’ll use."
   ]
  },
  {
   "cell_type": "markdown",
   "id": "a389664e-b06b-41d6-9579-ee11ba203b4b",
   "metadata": {
    "editable": true,
    "slideshow": {
     "slide_type": "slide"
    },
    "tags": []
   },
   "source": [
    "# Static Code Analysis Linters\n",
    "\n",
    "Python is a runtime language, meaning it evaluates each line when it is run. This means checks on code are usually done at the moment the code is run, aside from some basic syntax checks.\n",
    "\n",
    "To solve this, many teams have created a series of static code checking tools, called linters. These will evaluate your code as you create it, not as you run, and report warnings and errors that they can find without running the code directly.\n",
    "\n",
    "There are many options, and I’ve found all of them to be chatty and annoying at first in python, but once you configure it to your liking, it will catch mistakes you make way more accurately and quickly than manually running the code each time.\n",
    "\n",
    "Some common code analyzers:\n",
    "\n",
    "* [pylint](https://pylint.readthedocs.io/en/stable/)\n",
    "* [mypy](https://mypy.readthedocs.io/en/stable/getting_started.html)\n",
    "* [black](https://black.readthedocs.io/en/stable/index.html)"
   ]
  },
  {
   "cell_type": "markdown",
   "id": "2d75d54e",
   "metadata": {
    "editable": true,
    "slideshow": {
     "slide_type": "slide"
    },
    "tags": []
   },
   "source": [
    "# Using virtual environments\n",
    "\n",
    "A python [virtual environment](https://docs.python.org/3/tutorial/venv.html) is a contained mini python world that you run locally. It allows you to save python packages in a directory local to your project, access and manipulate them, and save a state for that specific work.\n",
    "\n",
    "If you have multiple projects on the same computer, sometimes the need to use different versions of packages to run. Or, if you don't have admin privileges on the machine you're running, you might be blocked from installing packages system-wide. These are two cases where you should start up a virtual environment. \n",
    "\n",
    "Probably most importantly, by creating a virtual environment between projects, you can save important environment variables, imports and themes that only apply to that project.\n",
    "\n",
    "To start the virtual environment, run the following from a terminal:\n",
    "\n",
    "```\n",
    "py -m venv lesson\n",
    "```\n",
    "\n",
    "A virtual environment should be created in your directory. Look for a folder named `lesson`. See what's inside. Look in the windows explorer, or type the following to see the contents:\n",
    "\n",
    "```\n",
    "tree lesson\n",
    "```\n",
    "\n",
    "Inside a directory called `Scripts`, there is an `activate` file. In terminal, type the file: `lesson\\Scripts\\activate`. Now, your virtual environment is activated, as indicated with the text `(lesson)` at the front of the terminal entry line."
   ]
  }
 ],
 "metadata": {
  "authors": [
   {
    "name": "Clint Chelak"
   }
  ],
  "kernelspec": {
   "display_name": "Python 3 (ipykernel)",
   "language": "python",
   "name": "python3"
  },
  "language_info": {
   "codemirror_mode": {
    "name": "ipython",
    "version": 3
   },
   "file_extension": ".py",
   "mimetype": "text/x-python",
   "name": "python",
   "nbconvert_exporter": "python",
   "pygments_lexer": "ipython3",
   "version": "3.12.3"
  },
  "title": "Intro to Python"
 },
 "nbformat": 4,
 "nbformat_minor": 5
}
